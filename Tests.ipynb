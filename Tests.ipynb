{
  "cells": [
    {
      "cell_type": "code",
      "execution_count": 1,
      "id": "e2dfbfa4",
      "metadata": {
        "id": "e2dfbfa4"
      },
      "outputs": [],
      "source": [
        "from sklearn.metrics import confusion_matrix, ConfusionMatrixDisplay, classification_report\n",
        "from sklearn.ensemble import GradientBoostingClassifier\n",
        "from sklearn.model_selection import train_test_split\n",
        "from sklearn.ensemble import RandomForestClassifier\n",
        "from sklearn.linear_model import LogisticRegression\n",
        "from sklearn.neighbors import KNeighborsClassifier\n",
        "from sklearn.exceptions import ConvergenceWarning\n",
        "from sklearn.preprocessing import StandardScaler\n",
        "from sklearn.model_selection import GridSearchCV\n",
        "from sklearn.neural_network import MLPClassifier\n",
        "from sklearn.tree import DecisionTreeClassifier\n",
        "from sklearn.feature_selection import RFE\n",
        "from sklearn.decomposition import PCA\n",
        "from sklearn.svm import SVC\n",
        "\n",
        "import matplotlib.pyplot as plt\n",
        "from tqdm import tqdm\n",
        "import pandas as pd\n",
        "import numpy as np\n",
        "import warnings\n",
        "import logging\n",
        "import pickle\n",
        "import os\n",
        "\n",
        "# Suppress warnings\n",
        "warnings.filterwarnings(\"ignore\", category=UserWarning, message=\"Setting penalty='none' will ignore the C and l1_ratio parameters\")\n",
        "warnings.filterwarnings(\"ignore\", category=UserWarning, message=\"l1_ratio must be between 0 and 1; got (l1_ratio=None)\")\n",
        "warnings.filterwarnings(\"ignore\", category=ConvergenceWarning)\n",
        "logging.basicConfig(level=logging.ERROR)\n",
        "\n",
        "np.random.seed(21)"
      ]
    },
    {
      "cell_type": "code",
      "execution_count": 2,
      "id": "DpGXbttgvjYI",
      "metadata": {
        "colab": {
          "base_uri": "https://localhost:8080/"
        },
        "id": "DpGXbttgvjYI",
        "outputId": "d53e3f6c-6f87-4fcd-a5c0-497e5f6636f4"
      },
      "outputs": [],
      "source": [
        "# from google.colab import drive\n",
        "# drive.mount('/content/drive')"
      ]
    },
    {
      "cell_type": "markdown",
      "id": "4616e243",
      "metadata": {
        "id": "4616e243"
      },
      "source": [
        "# Data Cleaning and Preprocessing & Feature Engineering & Feature Selection\n"
      ]
    },
    {
      "cell_type": "code",
      "execution_count": 2,
      "id": "296602aa",
      "metadata": {
        "id": "296602aa"
      },
      "outputs": [],
      "source": [
        "# root_path = '/content/drive/MyDrive/Tasks/MaidsCC'\n",
        "root_path = \"\\\\\".join(os.path.abspath(\".\").split('\\\\')[:-1])\n",
        "data_path = os.path.join(root_path, \"Data\")\n",
        "results_path = os.path.join(root_path, \"Results\")"
      ]
    },
    {
      "cell_type": "code",
      "execution_count": 3,
      "id": "1e4e2735-a3d1-4b8b-9c04-c57807e8c7d0",
      "metadata": {
        "id": "1e4e2735-a3d1-4b8b-9c04-c57807e8c7d0"
      },
      "outputs": [],
      "source": [
        "train_data = pd.read_csv(os.path.join(data_path, \"train.csv\"))\n",
        "test_data = pd.read_csv(os.path.join(data_path, \"test.csv\"))"
      ]
    },
    {
      "cell_type": "code",
      "execution_count": 4,
      "id": "a173ff3e-f1e3-449e-9a28-1a847762bf61",
      "metadata": {
        "colab": {
          "base_uri": "https://localhost:8080/"
        },
        "id": "a173ff3e-f1e3-449e-9a28-1a847762bf61",
        "outputId": "b5f11111-1861-4dd4-858c-d83c3f0987f5"
      },
      "outputs": [
        {
          "data": {
            "text/plain": [
              "((2000, 21), (1000, 21))"
            ]
          },
          "execution_count": 4,
          "metadata": {},
          "output_type": "execute_result"
        }
      ],
      "source": [
        "train_data.shape , test_data.shape"
      ]
    },
    {
      "cell_type": "code",
      "execution_count": 5,
      "id": "72ab7c01",
      "metadata": {
        "id": "72ab7c01"
      },
      "outputs": [],
      "source": [
        "def save_object(obj, filename, path):\n",
        "    filename = os.path.join(path, filename)\n",
        "    with open(filename + \".pkl\", 'wb') as outp:\n",
        "        pickle.dump(obj, outp, pickle.HIGHEST_PROTOCOL)\n",
        "    outp.close()\n",
        "\n",
        "def load_object(filename, path):\n",
        "    filename = os.path.join(path, filename)\n",
        "    with open(filename + \".pkl\", 'rb') as outp:\n",
        "        loaded_object = pickle.load(outp)\n",
        "    outp.close()\n",
        "    return loaded_object"
      ]
    },
    {
      "cell_type": "code",
      "execution_count": 6,
      "id": "9fe47bbb",
      "metadata": {
        "id": "9fe47bbb"
      },
      "outputs": [],
      "source": [
        "'''\n",
        "    Remove all rows from 'train_data' that contain any missing values.\n",
        "    The 'inplace=True' parameter modifies the DataFrame in place, meaning it will directly alter 'train_data' without needing to reassign it.\n",
        "'''\n",
        "train_data.dropna(inplace=True)\n",
        "\n",
        "X = train_data.drop(\"price_range\",axis=1)\n",
        "y = train_data[\"price_range\"]\n",
        "\n",
        "X_train, X_val, y_train, y_val = train_test_split(X, y, test_size=0.2, random_state=21)"
      ]
    },
    {
      "cell_type": "code",
      "execution_count": 7,
      "id": "32e57f07",
      "metadata": {
        "id": "32e57f07"
      },
      "outputs": [],
      "source": [
        "median_vector = X_train.median()\n",
        "median_vector = median_vector.tolist()\n",
        "# save_object(median_vector, 'median_vector', results_path)"
      ]
    },
    {
      "cell_type": "markdown",
      "id": "9e635d20",
      "metadata": {
        "id": "9e635d20"
      },
      "source": [
        "## First Experiment:\n",
        "A simple classification algorithm depends on setting thresholds for different RAM sizes"
      ]
    },
    {
      "cell_type": "code",
      "execution_count": 8,
      "id": "c827dbc9",
      "metadata": {
        "colab": {
          "base_uri": "https://localhost:8080/",
          "height": 640
        },
        "id": "c827dbc9",
        "outputId": "1920172b-9bd1-4bc3-ed12-4e7ce1d63dc1"
      },
      "outputs": [
        {
          "name": "stdout",
          "output_type": "stream",
          "text": [
            "              precision    recall  f1-score   support\n",
            "\n",
            "           0       0.95      0.79      0.86       113\n",
            "           1       0.65      0.68      0.66       107\n",
            "           2       0.56      0.67      0.61        84\n",
            "           3       0.87      0.84      0.86        95\n",
            "\n",
            "    accuracy                           0.75       399\n",
            "   macro avg       0.76      0.74      0.75       399\n",
            "weighted avg       0.77      0.75      0.75       399\n",
            "\n"
          ]
        },
        {
          "data": {
            "image/png": "[encoded data removed]",
            "text/plain": [
              "<Figure size 432x288 with 2 Axes>"
            ]
          },
          "metadata": {
            "needs_background": "light"
          },
          "output_type": "display_data"
        }
      ],
      "source": [
        "def classify_value(value):\n",
        "    ranges = [\n",
        "        (0, 1100, 0),\n",
        "        (1101, 2100, 1),\n",
        "        (2101, 3100, 2)\n",
        "    ]\n",
        "    for start, end, label in ranges:\n",
        "        if start <= value <= end:\n",
        "            return label\n",
        "    return 3\n",
        "y_preds = X_val['ram'].apply(classify_value)\n",
        "print(classification_report(y_val, y_preds))\n",
        "cf = confusion_matrix(y_val, y_preds)\n",
        "disp = ConfusionMatrixDisplay(cf)\n",
        "disp.plot()\n",
        "plt.show()"
      ]
    },
    {
      "cell_type": "markdown",
      "id": "49b62223",
      "metadata": {
        "id": "49b62223"
      },
      "source": [
        "## Second Experiment:\n",
        "Work on full data"
      ]
    },
    {
      "cell_type": "code",
      "execution_count": 9,
      "id": "7c27abfe",
      "metadata": {
        "id": "7c27abfe"
      },
      "outputs": [],
      "source": [
        "X_train_2 = X_train.copy()\n",
        "X_val_2 = X_val.copy()"
      ]
    },
    {
      "cell_type": "markdown",
      "id": "f2cdae51",
      "metadata": {},
      "source": [
        "## Third Experiment:\n",
        "Work on all data, but with standardization"
      ]
    },
    {
      "cell_type": "code",
      "execution_count": 10,
      "id": "29563578",
      "metadata": {},
      "outputs": [],
      "source": [
        "X_train_3 = X_train.copy()\n",
        "X_val_3 = X_val.copy()\n",
        "sc_3 = StandardScaler()\n",
        "X_train_3 = sc_3.fit_transform(X_train_3)\n",
        "X_val_3 = sc_3.transform(X_val_3)"
      ]
    },
    {
      "cell_type": "markdown",
      "id": "25523714",
      "metadata": {
        "id": "25523714"
      },
      "source": [
        "## Fourth Experiment:\n",
        "Work on the most important three features according to the corelation matrix (Battery power, Total pxs, Ram)"
      ]
    },
    {
      "cell_type": "code",
      "execution_count": 11,
      "id": "5c70e840",
      "metadata": {
        "id": "5c70e840"
      },
      "outputs": [],
      "source": [
        "X_train_4 = X_train.copy()\n",
        "X_val_4 = X_val.copy()\n",
        "X_train_4['total_pxs'] = X_train_4['px_height'] * X_train_4['px_width']\n",
        "X_val_4['total_pxs'] = X_val_4['px_height'] * X_val_4['px_width']\n",
        "columns_to_keep = ['battery_power', 'total_pxs', 'ram']\n",
        "columns_to_drop = [col for col in X_train_4.columns if col not in columns_to_keep]\n",
        "X_train_4 = X_train_4.drop(columns=columns_to_drop)\n",
        "X_val_4 = X_val_4.drop(columns=columns_to_drop)\n",
        "sc_4 = StandardScaler()\n",
        "X_train_4 = sc_4.fit_transform(X_train_4)\n",
        "X_val_4 = sc_4.transform(X_val_4)"
      ]
    },
    {
      "cell_type": "markdown",
      "id": "b7d279af",
      "metadata": {
        "id": "b7d279af"
      },
      "source": [
        "## Fifth Experiment:\n",
        "Work on all the features that have a positive association with the price according to the correlation matrix"
      ]
    },
    {
      "cell_type": "code",
      "execution_count": 12,
      "id": "e1fbc18f",
      "metadata": {
        "id": "e1fbc18f"
      },
      "outputs": [],
      "source": [
        "X_train_5 = X_train.copy()\n",
        "X_val_5 = X_val.copy()\n",
        "X_train_5['total_pxs'] = X_train_5['px_height'] * X_train_5['px_width']\n",
        "X_val_5['total_pxs'] = X_val_5['px_height'] * X_val_5['px_width']\n",
        "\n",
        "X_train_5['sc_area'] = X_train_5['sc_h'] * X_train_5['sc_w']\n",
        "X_val_5['sc_area'] = X_val_5['sc_h'] * X_val_5['sc_w']\n",
        "\n",
        "columns_to_keep = ['battery_power', 'fc', 'int_memory', 'm_dep', 'mobile_wt',\n",
        "                   'n_cores', 'pc', 'total_pxs', 'ram', 'sc_area', 'talk_time', 'three_g']\n",
        "columns_to_drop = [col for col in X_train_5.columns if col not in columns_to_keep]\n",
        "X_train_5 = X_train_5.drop(columns=columns_to_drop)\n",
        "X_val_5 = X_val_5.drop(columns=columns_to_drop)\n",
        "sc_5 = StandardScaler()\n",
        "X_train_5 = sc_5.fit_transform(X_train_5)\n",
        "X_val_5 = sc_5.transform(X_val_5)"
      ]
    },
    {
      "cell_type": "markdown",
      "id": "9ed39f16",
      "metadata": {
        "id": "9ed39f16"
      },
      "source": [
        "## VI Experiment:\n",
        "Extracting the importance of features using DecisionTreeClassifier"
      ]
    },
    {
      "cell_type": "code",
      "execution_count": 13,
      "id": "ISGmbFndG4fI",
      "metadata": {
        "colab": {
          "base_uri": "https://localhost:8080/",
          "height": 518
        },
        "id": "ISGmbFndG4fI",
        "outputId": "092d21f1-ba3b-4fbc-d4c8-c4614a6664d8"
      },
      "outputs": [
        {
          "data": {
            "image/png": "[encoded data removed]",
            "text/plain": [
              "<Figure size 864x576 with 1 Axes>"
            ]
          },
          "metadata": {
            "needs_background": "light"
          },
          "output_type": "display_data"
        }
      ],
      "source": [
        "train_data.dropna(inplace=True)\n",
        "X = train_data.drop(\"price_range\",axis=1)\n",
        "y = train_data[\"price_range\"]\n",
        "clf_all = DecisionTreeClassifier(random_state=42)\n",
        "clf_all.fit(X, y)\n",
        "n_features = X.shape[1]\n",
        "plt.figure(figsize=(12, 8))\n",
        "plt.barh(range(n_features), clf_all.feature_importances_, align='center')\n",
        "plt.yticks(np.arange(n_features), X.columns)\n",
        "plt.xlabel('Feature Importance')\n",
        "plt.ylabel('Feature')\n",
        "plt.show()"
      ]
    },
    {
      "cell_type": "code",
      "execution_count": 14,
      "id": "Q4D24ag6G9XW",
      "metadata": {
        "id": "Q4D24ag6G9XW"
      },
      "outputs": [],
      "source": [
        "X_train_6 = X_train.copy()\n",
        "X_val_6 = X_val.copy()\n",
        "X_train_6['total_pxs'] = X_train_6['px_height'] * X_train_6['px_width']\n",
        "X_val_6['total_pxs'] = X_val_6['px_height'] * X_val_6['px_width']\n",
        "\n",
        "X_train_6['sc_area'] = X_train_6['sc_h'] * X_train_6['sc_w']\n",
        "X_val_6['sc_area'] = X_val_6['sc_h'] * X_val_6['sc_w']\n",
        "\n",
        "columns_to_keep = ['talk_time', 'sc_area', 'ram', 'total_pxs', 'pc',\n",
        "                   'mobile_wt', 'm_dep', 'int_memory', 'clock_speed', 'battery_power']\n",
        "columns_to_drop = [col for col in X_train_6.columns if col not in columns_to_keep]\n",
        "X_train_6 = X_train_6.drop(columns=columns_to_drop)\n",
        "X_val_6 = X_val_6.drop(columns=columns_to_drop)\n",
        "sc_6 = StandardScaler()\n",
        "X_train_6 = sc_6.fit_transform(X_train_6)\n",
        "X_val_6 = sc_6.transform(X_val_6)"
      ]
    },
    {
      "cell_type": "markdown",
      "id": "36e897c7",
      "metadata": {},
      "source": [
        "## Seventh Experiment:\n",
        "Use PCA to reduce data dimensions"
      ]
    },
    {
      "cell_type": "code",
      "execution_count": 15,
      "id": "d75136ed",
      "metadata": {},
      "outputs": [],
      "source": [
        "pca = PCA(n_components=0.95)\n",
        "X_train_ = np.array(X_train)\n",
        "X_val_ = np.array(X_val)\n",
        "X_train_7 = pca.fit_transform(X_train_)\n",
        "X_val_7 = pca.transform(X_val_)"
      ]
    },
    {
      "cell_type": "markdown",
      "id": "9712731e",
      "metadata": {},
      "source": [
        "## VIII Experiment:\n",
        "Using Recursive Feature Elimination (**RFE**) (select features by **recursively considering smaller and smaller sets of features**)."
      ]
    },
    {
      "cell_type": "code",
      "execution_count": 16,
      "id": "290e7cbd",
      "metadata": {},
      "outputs": [
        {
          "data": {
            "text/plain": [
              "([], <a list of 0 Text yticklabel objects>)"
            ]
          },
          "execution_count": 16,
          "metadata": {},
          "output_type": "execute_result"
        },
        {
          "data": {
            "image/png": "[encoded data removed]",
            "text/plain": [
              "<Figure size 1152x144 with 1 Axes>"
            ]
          },
          "metadata": {
            "needs_background": "light"
          },
          "output_type": "display_data"
        }
      ],
      "source": [
        "select = RFE(RandomForestClassifier(n_estimators=100, random_state=42), n_features_to_select=40)\n",
        "select.fit(X_train, y_train)\n",
        "mask = select.get_support()\n",
        "X_train_ = np.array(X_train)\n",
        "X_val_ = np.array(X_val)\n",
        "X_train_8 = X_train_[:, mask]\n",
        "X_val_8 = X_val_[:, mask]\n",
        "plt.matshow(mask.reshape(1, -1), cmap='gray_r')\n",
        "plt.xlabel(\"Sample index\")\n",
        "plt.yticks(())"
      ]
    },
    {
      "cell_type": "markdown",
      "id": "03684dae",
      "metadata": {},
      "source": [
        "## Ninth Experiment:\n",
        "drift detection (by DDM or ADWIN)"
      ]
    },
    {
      "cell_type": "code",
      "execution_count": null,
      "id": "b547e584",
      "metadata": {},
      "outputs": [],
      "source": []
    },
    {
      "cell_type": "markdown",
      "id": "2b4f5e0a",
      "metadata": {
        "id": "2b4f5e0a"
      },
      "source": [
        "# Modelling"
      ]
    },
    {
      "cell_type": "code",
      "execution_count": 17,
      "id": "eda285af",
      "metadata": {
        "id": "eda285af"
      },
      "outputs": [],
      "source": [
        "def evaluate_model(model, x_val, y_val):\n",
        "    y_preds = model.predict(x_val)\n",
        "    print(classification_report(y_val,y_preds))\n",
        "    cf = confusion_matrix(y_val,y_preds)\n",
        "    disp = ConfusionMatrixDisplay(cf)\n",
        "    disp.plot()\n",
        "    plt.show()"
      ]
    },
    {
      "cell_type": "code",
      "execution_count": 18,
      "id": "9de138e9",
      "metadata": {
        "id": "9de138e9"
      },
      "outputs": [],
      "source": [
        "def train_model(model, X_train, y_train, X_test, y_test):\n",
        "    model.fit(X_train,y_train)\n",
        "    train_acc = model.score(X_train,y_train)\n",
        "    test_acc = model.score(X_test,y_test)\n",
        "    return train_acc, test_acc"
      ]
    },
    {
      "cell_type": "code",
      "execution_count": 19,
      "id": "4f6cb14d",
      "metadata": {
        "id": "4f6cb14d"
      },
      "outputs": [],
      "source": [
        "model_params = {\n",
        "    'svm': {\n",
        "        'model': SVC(),\n",
        "        'params': {\n",
        "            'kernel': ['linear', 'poly', 'rbf'],\n",
        "            'C': [1, 5, 10],\n",
        "            'gamma': ['scale', 'auto']\n",
        "        }\n",
        "    },\n",
        "    'rfc': {\n",
        "        'model': RandomForestClassifier(),\n",
        "        'params': {\n",
        "            'n_estimators': [10, 50, 100],\n",
        "            'max_depth': [None, 10, 20, 30],\n",
        "            'criterion': ['gini', 'entropy']\n",
        "        }\n",
        "    },\n",
        "    'dtc': {\n",
        "        'model': DecisionTreeClassifier(),\n",
        "        'params': {\n",
        "            'max_depth': [3, 5, 10, None],\n",
        "            'criterion': ['gini', 'entropy']\n",
        "        }\n",
        "    },\n",
        "     'log_reg_1': {\n",
        "        'model': LogisticRegression(),\n",
        "        'params': {\n",
        "            'penalty': ['l2'],\n",
        "            'C': [0.1, 1, 10, 100],\n",
        "            'solver': ['saga']\n",
        "        }\n",
        "    },\n",
        "     'log_reg_2': {\n",
        "        'model': LogisticRegression(),\n",
        "        'params': {\n",
        "            'penalty': ['elasticnet'],\n",
        "            'C': [0.1, 1, 10, 100],\n",
        "            'solver': ['saga'],\n",
        "            'l1_ratio': [0.5, 0.7, 0.9]\n",
        "        }\n",
        "     },\n",
        "    'knn': {\n",
        "        'model': KNeighborsClassifier(),\n",
        "        'params': {\n",
        "            'n_neighbors': [3, 5, 11, 19],\n",
        "            'weights': ['uniform', 'distance'],\n",
        "            'metric': ['euclidean', 'manhattan', 'minkowski']\n",
        "        }\n",
        "    },\n",
        "    'gbc': {\n",
        "        'model': GradientBoostingClassifier(),\n",
        "        'params': {\n",
        "            'n_estimators': [50, 100, 200],\n",
        "            'learning_rate': [0.01, 0.1, 0.2],\n",
        "            'max_depth': [3, 5, 7]\n",
        "        }\n",
        "    },\n",
        "    'mlp': {\n",
        "        'model': MLPClassifier(),\n",
        "        'params': {\n",
        "            'hidden_layer_sizes': [(50,), (100,), (50, 50)],\n",
        "            'activation': ['tanh', 'relu'],\n",
        "            'solver': ['sgd', 'adam'],\n",
        "            'alpha': [0.0001, 0.001, 0.01],\n",
        "            'learning_rate': ['constant', 'adaptive']\n",
        "        }\n",
        "    }\n",
        "}"
      ]
    },
    {
      "cell_type": "code",
      "execution_count": 20,
      "id": "7e30a861",
      "metadata": {
        "id": "7e30a861"
      },
      "outputs": [],
      "source": [
        "def run_grid_search(X_train, y_train):\n",
        "    scores=[]\n",
        "    for model_name, mp in tqdm(model_params.items()):\n",
        "        try:\n",
        "            clf = GridSearchCV(mp['model'], mp['params'], cv=5, return_train_score=False)\n",
        "            clf.fit(X_train, y_train)\n",
        "            scores.append({\n",
        "                'model':model_name,\n",
        "                'best_score':clf.best_score_,\n",
        "                'best_params':clf.best_params_\n",
        "            })\n",
        "        except ValueError as e:\n",
        "            print(f\"An error occurred during grid search: {e}\")\n",
        "    return scores"
      ]
    },
    {
      "cell_type": "markdown",
      "id": "3adfbf6c",
      "metadata": {
        "id": "3adfbf6c"
      },
      "source": [
        "## Second Experiment:"
      ]
    },
    {
      "cell_type": "code",
      "execution_count": 21,
      "id": "34c1895a",
      "metadata": {
        "id": "34c1895a"
      },
      "outputs": [
        {
          "name": "stderr",
          "output_type": "stream",
          "text": [
            "100%|██████████| 8/8 [14:40<00:00, 110.12s/it]"
          ]
        },
        {
          "name": "stdout",
          "output_type": "stream",
          "text": [
            "Wall time: 14min 40s\n"
          ]
        },
        {
          "name": "stderr",
          "output_type": "stream",
          "text": [
            "\n"
          ]
        },
        {
          "data": {
            "text/plain": [
              "[{'model': 'svm',\n",
              "  'best_score': 0.9736203939196783,\n",
              "  'best_params': {'C': 1, 'gamma': 'scale', 'kernel': 'linear'}},\n",
              " {'model': 'rfc',\n",
              "  'best_score': 0.8731038425898543,\n",
              "  'best_params': {'criterion': 'entropy',\n",
              "   'max_depth': None,\n",
              "   'n_estimators': 100}},\n",
              " {'model': 'dtc',\n",
              "  'best_score': 0.8404428146132765,\n",
              "  'best_params': {'criterion': 'entropy', 'max_depth': 10}},\n",
              " {'model': 'log_reg_1',\n",
              "  'best_score': 0.6363281481043355,\n",
              "  'best_params': {'C': 0.1, 'penalty': 'l2', 'solver': 'saga'}},\n",
              " {'model': 'log_reg_2',\n",
              "  'best_score': 0.6363281481043355,\n",
              "  'best_params': {'C': 100,\n",
              "   'l1_ratio': 0.9,\n",
              "   'penalty': 'elasticnet',\n",
              "   'solver': 'saga'}},\n",
              " {'model': 'knn',\n",
              "  'best_score': 0.9302695136136906,\n",
              "  'best_params': {'metric': 'manhattan',\n",
              "   'n_neighbors': 19,\n",
              "   'weights': 'distance'}},\n",
              " {'model': 'gbc',\n",
              "  'best_score': 0.9057885294059659,\n",
              "  'best_params': {'learning_rate': 0.1, 'max_depth': 7, 'n_estimators': 200}},\n",
              " {'model': 'mlp',\n",
              "  'best_score': 0.6733936633741449,\n",
              "  'best_params': {'activation': 'tanh',\n",
              "   'alpha': 0.001,\n",
              "   'hidden_layer_sizes': (100,),\n",
              "   'learning_rate': 'adaptive',\n",
              "   'solver': 'adam'}}]"
            ]
          },
          "execution_count": 21,
          "metadata": {},
          "output_type": "execute_result"
        }
      ],
      "source": [
        "%%time\n",
        "scores = run_grid_search(X_train_2, y_train)\n",
        "for models in scores:\n",
        "    print(models)"
      ]
    },
    {
      "cell_type": "markdown",
      "id": "cd3e993d",
      "metadata": {
        "id": "cd3e993d"
      },
      "source": [
        "## Third Experiment:"
      ]
    },
    {
      "cell_type": "code",
      "execution_count": 22,
      "id": "9fb05ae6",
      "metadata": {
        "id": "9fb05ae6"
      },
      "outputs": [
        {
          "name": "stderr",
          "output_type": "stream",
          "text": [
            "100%|██████████| 8/8 [15:15<00:00, 114.39s/it]"
          ]
        },
        {
          "name": "stdout",
          "output_type": "stream",
          "text": [
            "Wall time: 15min 15s\n"
          ]
        },
        {
          "name": "stderr",
          "output_type": "stream",
          "text": [
            "\n"
          ]
        },
        {
          "data": {
            "text/plain": [
              "[{'model': 'svm',\n",
              "  'best_score': 0.9623193549023087,\n",
              "  'best_params': {'C': 10, 'gamma': 'scale', 'kernel': 'linear'}},\n",
              " {'model': 'rfc',\n",
              "  'best_score': 0.8724768833422054,\n",
              "  'best_params': {'criterion': 'entropy',\n",
              "   'max_depth': 10,\n",
              "   'n_estimators': 100}},\n",
              " {'model': 'dtc',\n",
              "  'best_score': 0.8404546440330435,\n",
              "  'best_params': {'criterion': 'entropy', 'max_depth': 10}},\n",
              " {'model': 'log_reg_1',\n",
              "  'best_score': 0.9654502080006309,\n",
              "  'best_params': {'C': 100, 'penalty': 'l2', 'solver': 'saga'}},\n",
              " {'model': 'log_reg_2',\n",
              "  'best_score': 0.9654502080006309,\n",
              "  'best_params': {'C': 10,\n",
              "   'l1_ratio': 0.9,\n",
              "   'penalty': 'elasticnet',\n",
              "   'solver': 'saga'}},\n",
              " {'model': 'knn',\n",
              "  'best_score': 0.6413083338262259,\n",
              "  'best_params': {'metric': 'manhattan',\n",
              "   'n_neighbors': 19,\n",
              "   'weights': 'distance'}},\n",
              " {'model': 'gbc',\n",
              "  'best_score': 0.9013899568226179,\n",
              "  'best_params': {'learning_rate': 0.2, 'max_depth': 5, 'n_estimators': 50}},\n",
              " {'model': 'mlp',\n",
              "  'best_score': 0.9547702135210269,\n",
              "  'best_params': {'activation': 'tanh',\n",
              "   'alpha': 0.001,\n",
              "   'hidden_layer_sizes': (100,),\n",
              "   'learning_rate': 'adaptive',\n",
              "   'solver': 'adam'}}]"
            ]
          },
          "execution_count": 22,
          "metadata": {},
          "output_type": "execute_result"
        }
      ],
      "source": [
        "%%time\n",
        "scores = run_grid_search(X_train_3, y_train)\n",
        "for models in scores:\n",
        "    print(models)"
      ]
    },
    {
      "cell_type": "markdown",
      "id": "622bba73",
      "metadata": {
        "id": "622bba73"
      },
      "source": [
        "## Fourth Experiment:"
      ]
    },
    {
      "cell_type": "code",
      "execution_count": 24,
      "id": "fcde78c5",
      "metadata": {
        "id": "fcde78c5"
      },
      "outputs": [
        {
          "name": "stderr",
          "output_type": "stream",
          "text": [
            "100%|██████████| 8/8 [10:47<00:00, 80.98s/it] "
          ]
        },
        {
          "name": "stdout",
          "output_type": "stream",
          "text": [
            "[{'model': 'svm', 'best_score': 0.9321720786262102, 'best_params': {'C': 5, 'gamma': 'scale', 'kernel': 'linear'}}, {'model': 'rfc', 'best_score': 0.9114429920545731, 'best_params': {'criterion': 'entropy', 'max_depth': 30, 'n_estimators': 50}}, {'model': 'dtc', 'best_score': 0.8863015319098597, 'best_params': {'criterion': 'entropy', 'max_depth': None}}, {'model': 'log_reg_1', 'best_score': 0.9296602984956921, 'best_params': {'C': 10, 'penalty': 'l2', 'solver': 'saga'}}, {'model': 'log_reg_2', 'best_score': 0.9302892293133022, 'best_params': {'C': 1, 'l1_ratio': 0.7, 'penalty': 'elasticnet', 'solver': 'saga'}}, {'model': 'knn', 'best_score': 0.9076713787188739, 'best_params': {'metric': 'manhattan', 'n_neighbors': 19, 'weights': 'distance'}}, {'model': 'gbc', 'best_score': 0.907673350288835, 'best_params': {'learning_rate': 0.1, 'max_depth': 7, 'n_estimators': 100}}, {'model': 'mlp', 'best_score': 0.9409711953628674, 'best_params': {'activation': 'relu', 'alpha': 0.001, 'hidden_layer_sizes': (50, 50), 'learning_rate': 'constant', 'solver': 'adam'}}]\n",
            "Wall time: 10min 47s\n"
          ]
        },
        {
          "name": "stderr",
          "output_type": "stream",
          "text": [
            "\n"
          ]
        },
        {
          "data": {
            "text/plain": [
              "[{'model': 'svm',\n",
              "  'best_score': 0.9321720786262102,\n",
              "  'best_params': {'C': 5, 'gamma': 'scale', 'kernel': 'linear'}},\n",
              " {'model': 'rfc',\n",
              "  'best_score': 0.9114429920545731,\n",
              "  'best_params': {'criterion': 'entropy',\n",
              "   'max_depth': 30,\n",
              "   'n_estimators': 50}},\n",
              " {'model': 'dtc',\n",
              "  'best_score': 0.8863015319098597,\n",
              "  'best_params': {'criterion': 'entropy', 'max_depth': None}},\n",
              " {'model': 'log_reg_1',\n",
              "  'best_score': 0.9296602984956921,\n",
              "  'best_params': {'C': 10, 'penalty': 'l2', 'solver': 'saga'}},\n",
              " {'model': 'log_reg_2',\n",
              "  'best_score': 0.9302892293133022,\n",
              "  'best_params': {'C': 1,\n",
              "   'l1_ratio': 0.7,\n",
              "   'penalty': 'elasticnet',\n",
              "   'solver': 'saga'}},\n",
              " {'model': 'knn',\n",
              "  'best_score': 0.9076713787188739,\n",
              "  'best_params': {'metric': 'manhattan',\n",
              "   'n_neighbors': 19,\n",
              "   'weights': 'distance'}},\n",
              " {'model': 'gbc',\n",
              "  'best_score': 0.907673350288835,\n",
              "  'best_params': {'learning_rate': 0.1, 'max_depth': 7, 'n_estimators': 100}},\n",
              " {'model': 'mlp',\n",
              "  'best_score': 0.9409711953628674,\n",
              "  'best_params': {'activation': 'relu',\n",
              "   'alpha': 0.001,\n",
              "   'hidden_layer_sizes': (50, 50),\n",
              "   'learning_rate': 'constant',\n",
              "   'solver': 'adam'}}]"
            ]
          },
          "execution_count": 24,
          "metadata": {},
          "output_type": "execute_result"
        }
      ],
      "source": [
        "%%time\n",
        "scores = run_grid_search(X_train_4, y_train)\n",
        "for models in scores:\n",
        "    print(models)"
      ]
    },
    {
      "cell_type": "markdown",
      "id": "91ad47ea",
      "metadata": {
        "id": "91ad47ea"
      },
      "source": [
        "## Fifth Experiment:"
      ]
    },
    {
      "cell_type": "code",
      "execution_count": 25,
      "id": "28517046",
      "metadata": {
        "id": "28517046"
      },
      "outputs": [
        {
          "name": "stderr",
          "output_type": "stream",
          "text": [
            "100%|██████████| 8/8 [13:14<00:00, 99.37s/it] "
          ]
        },
        {
          "name": "stdout",
          "output_type": "stream",
          "text": [
            "{'model': 'svm', 'best_score': 0.9321681354862879, 'best_params': {'C': 5, 'gamma': 'scale', 'kernel': 'linear'}}\n",
            "{'model': 'rfc', 'best_score': 0.8718597819443623, 'best_params': {'criterion': 'entropy', 'max_depth': None, 'n_estimators': 50}}\n",
            "{'model': 'dtc', 'best_score': 0.8630586936377437, 'best_params': {'criterion': 'entropy', 'max_depth': 10}}\n",
            "{'model': 'log_reg_1', 'best_score': 0.9327911515940144, 'best_params': {'C': 100, 'penalty': 'l2', 'solver': 'saga'}}\n",
            "{'model': 'log_reg_2', 'best_score': 0.9334240255515468, 'best_params': {'C': 1, 'l1_ratio': 0.9, 'penalty': 'elasticnet', 'solver': 'saga'}}\n",
            "{'model': 'knn', 'best_score': 0.7380453855405059, 'best_params': {'metric': 'manhattan', 'n_neighbors': 19, 'weights': 'distance'}}\n",
            "{'model': 'gbc', 'best_score': 0.8988722619822165, 'best_params': {'learning_rate': 0.2, 'max_depth': 5, 'n_estimators': 100}}\n",
            "{'model': 'mlp', 'best_score': 0.9346858303266892, 'best_params': {'activation': 'tanh', 'alpha': 0.01, 'hidden_layer_sizes': (100,), 'learning_rate': 'adaptive', 'solver': 'adam'}}\n",
            "Wall time: 13min 14s\n"
          ]
        },
        {
          "name": "stderr",
          "output_type": "stream",
          "text": [
            "\n"
          ]
        }
      ],
      "source": [
        "%%time\n",
        "scores = run_grid_search(X_train_5, y_train)\n",
        "for models in scores:\n",
        "    print(models)"
      ]
    },
    {
      "cell_type": "markdown",
      "id": "UHIAv2lsKgEd",
      "metadata": {
        "id": "UHIAv2lsKgEd"
      },
      "source": [
        "## VI Experiment:"
      ]
    },
    {
      "cell_type": "code",
      "execution_count": 28,
      "id": "VYp0NyoiKebn",
      "metadata": {
        "id": "VYp0NyoiKebn"
      },
      "outputs": [
        {
          "name": "stderr",
          "output_type": "stream",
          "text": [
            "100%|██████████| 8/8 [13:13<00:00, 99.24s/it] "
          ]
        },
        {
          "name": "stdout",
          "output_type": "stream",
          "text": [
            "{'model': 'svm', 'best_score': 0.9277656197630172, 'best_params': {'C': 5, 'gamma': 'scale', 'kernel': 'linear'}}\n",
            "{'model': 'rfc', 'best_score': 0.8825496342737722, 'best_params': {'criterion': 'entropy', 'max_depth': None, 'n_estimators': 100}}\n",
            "{'model': 'dtc', 'best_score': 0.8599219258295381, 'best_params': {'criterion': 'entropy', 'max_depth': None}}\n",
            "{'model': 'log_reg_1', 'best_score': 0.9283965221505885, 'best_params': {'C': 100, 'penalty': 'l2', 'solver': 'saga'}}\n",
            "{'model': 'log_reg_2', 'best_score': 0.9290234813982374, 'best_params': {'C': 10, 'l1_ratio': 0.9, 'penalty': 'elasticnet', 'solver': 'saga'}}\n",
            "{'model': 'knn', 'best_score': 0.7468445022771633, 'best_params': {'metric': 'manhattan', 'n_neighbors': 19, 'weights': 'distance'}}\n",
            "{'model': 'gbc', 'best_score': 0.9007570828650854, 'best_params': {'learning_rate': 0.2, 'max_depth': 7, 'n_estimators': 200}}\n",
            "{'model': 'mlp', 'best_score': 0.9321799649060546, 'best_params': {'activation': 'tanh', 'alpha': 0.01, 'hidden_layer_sizes': (50,), 'learning_rate': 'adaptive', 'solver': 'adam'}}\n",
            "Wall time: 13min 13s\n"
          ]
        },
        {
          "name": "stderr",
          "output_type": "stream",
          "text": [
            "\n"
          ]
        }
      ],
      "source": [
        "%%time\n",
        "scores = run_grid_search(X_train_6, y_train)\n",
        "for models in scores:\n",
        "    print(models)"
      ]
    },
    {
      "cell_type": "markdown",
      "id": "HXwf2iEjRN2w",
      "metadata": {
        "id": "HXwf2iEjRN2w"
      },
      "source": [
        "## Seventh Experiment:"
      ]
    },
    {
      "cell_type": "code",
      "execution_count": 29,
      "id": "873ecba4",
      "metadata": {},
      "outputs": [
        {
          "name": "stderr",
          "output_type": "stream",
          "text": []
        }
      ],
      "source": [
        "%%time\n",
        "scores = run_grid_search(X_train_7, y_train)\n",
        "for models in scores:\n",
        "    print(models)"
      ]
    },
    {
      "cell_type": "markdown",
      "id": "92ed0b7c",
      "metadata": {},
      "source": [
        "## VIII Experiment:"
      ]
    },
    {
      "cell_type": "code",
      "execution_count": null,
      "id": "887bf703",
      "metadata": {},
      "outputs": [],
      "source": [
        "%%time\n",
        "scores = run_grid_search(X_train_8, y_train)\n",
        "for models in scores:\n",
        "    print(models)"
      ]
    },
    {
      "cell_type": "markdown",
      "id": "89a0d561",
      "metadata": {},
      "source": [
        "The best is : ......"
      ]
    },
    {
      "cell_type": "markdown",
      "id": "d570021e",
      "metadata": {
        "id": "d570021e"
      },
      "source": [
        "## Infrence\n",
        "Building a final model"
      ]
    },
    {
      "cell_type": "code",
      "execution_count": null,
      "id": "3ede18f5",
      "metadata": {
        "id": "3ede18f5",
        "outputId": "787bc310-58de-453c-e237-497af32c2819"
      },
      "outputs": [],
      "source": [
        "# from sklearn.pipeline import Pipeline\n",
        "# pipeline = Pipeline([\n",
        "#  ('std_scaler', StandardScaler()),\n",
        "#  ('Model' , SVC(C=10, kernel='linear', gamma=0.5)),\n",
        "# ])\n",
        "\n",
        "# pipeline.fit(X_train, y_train)\n",
        "# evaluate_model(pipeline, X_val, y_val)"
      ]
    },
    {
      "cell_type": "code",
      "execution_count": null,
      "id": "ee07a6fe",
      "metadata": {
        "id": "ee07a6fe",
        "outputId": "0cb6a0f1-be89-4848-dc0c-54d7e66ff18f"
      },
      "outputs": [],
      "source": [
        "# X_test = test_data.drop(\"id\",axis=1)\n",
        "# X_test = X_test[list(X.columns)]\n",
        "\n",
        "# y_test_preds = pipeline.predict(X_test)\n",
        "# test_data[\"price_range\"] = y_test_preds\n",
        "# test_data.sample(10)"
      ]
    },
    {
      "cell_type": "code",
      "execution_count": null,
      "id": "e63defb2",
      "metadata": {
        "id": "e63defb2"
      },
      "outputs": [],
      "source": [
        "# save_object(pipeline, 'pipeline', results_path)"
      ]
    },
    {
      "cell_type": "code",
      "execution_count": null,
      "id": "5b40f534",
      "metadata": {
        "id": "5b40f534"
      },
      "outputs": [],
      "source": []
    }
  ],
  "metadata": {
    "colab": {
      "provenance": []
    },
    "kernelspec": {
      "display_name": "Python 3 (ipykernel)",
      "language": "python",
      "name": "python3"
    },
    "language_info": {
      "codemirror_mode": {
        "name": "ipython",
        "version": 3
      },
      "file_extension": ".py",
      "mimetype": "text/x-python",
      "name": "python",
      "nbconvert_exporter": "python",
      "pygments_lexer": "ipython3",
      "version": "3.7.6"
    }
  },
  "nbformat": 4,
  "nbformat_minor": 5
}
