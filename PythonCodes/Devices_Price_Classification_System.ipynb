{
  "cells": [
    {
      "cell_type": "code",
      "execution_count": 1,
      "id": "e2dfbfa4",
      "metadata": {
        "id": "e2dfbfa4"
      },
      "outputs": [],
      "source": [
        "from sklearn.metrics import confusion_matrix, ConfusionMatrixDisplay, classification_report\n",
        "from sklearn.ensemble import GradientBoostingClassifier\n",
        "from sklearn.model_selection import train_test_split\n",
        "from sklearn.ensemble import RandomForestClassifier\n",
        "from sklearn.linear_model import LogisticRegression\n",
        "from sklearn.neighbors import KNeighborsClassifier\n",
        "from sklearn.exceptions import ConvergenceWarning\n",
        "from sklearn.preprocessing import StandardScaler\n",
        "from sklearn.model_selection import GridSearchCV\n",
        "from sklearn.neural_network import MLPClassifier\n",
        "from sklearn.tree import DecisionTreeClassifier\n",
        "from sklearn.feature_selection import RFE\n",
        "from sklearn.decomposition import PCA\n",
        "from sklearn.svm import SVC\n",
        "\n",
        "import matplotlib.pyplot as plt\n",
        "from tqdm import tqdm\n",
        "import pandas as pd\n",
        "import numpy as np\n",
        "import warnings\n",
        "import logging\n",
        "import pickle\n",
        "import os\n",
        "\n",
        "# Suppress warnings\n",
        "warnings.filterwarnings(\"ignore\", category=UserWarning, message=\"Setting penalty='none' will ignore the C and l1_ratio parameters\")\n",
        "warnings.filterwarnings(\"ignore\", category=UserWarning, message=\"l1_ratio must be between 0 and 1; got (l1_ratio=None)\")\n",
        "warnings.filterwarnings(\"ignore\", category=ConvergenceWarning)\n",
        "logging.basicConfig(level=logging.ERROR)\n",
        "\n",
        "np.random.seed(21)"
      ]
    },
    {
      "cell_type": "code",
      "execution_count": null,
      "id": "DpGXbttgvjYI",
      "metadata": {
        "colab": {
          "base_uri": "https://localhost:8080/"
        },
        "id": "DpGXbttgvjYI",
        "outputId": "ddf0299f-beb6-4600-e139-77a0f293396d"
      },
      "outputs": [
        {
          "name": "stdout",
          "output_type": "stream",
          "text": [
            "Mounted at /content/drive\n"
          ]
        }
      ],
      "source": [
        "# from google.colab import drive\n",
        "# drive.mount('/content/drive')"
      ]
    },
    {
      "cell_type": "markdown",
      "id": "4616e243",
      "metadata": {
        "id": "4616e243"
      },
      "source": [
        "# **Data Cleaning and Preprocessing & Feature Engineering & Feature Selection**\n"
      ]
    },
    {
      "cell_type": "code",
      "execution_count": 2,
      "id": "296602aa",
      "metadata": {
        "id": "296602aa"
      },
      "outputs": [],
      "source": [
        "# root_path = '/content/drive/MyDrive/Tasks/MaidsCC'\n",
        "root_path = \"\\\\\".join(os.path.abspath(\".\").split('\\\\')[:-1])\n",
        "data_path = os.path.join(root_path, \"Data\")\n",
        "results_path = os.path.join(root_path, \"Results\")"
      ]
    },
    {
      "cell_type": "code",
      "execution_count": 3,
      "id": "1e4e2735-a3d1-4b8b-9c04-c57807e8c7d0",
      "metadata": {
        "id": "1e4e2735-a3d1-4b8b-9c04-c57807e8c7d0"
      },
      "outputs": [],
      "source": [
        "train_data = pd.read_csv(os.path.join(data_path, \"train.csv\"))\n",
        "test_data = pd.read_csv(os.path.join(data_path, \"test.csv\"))"
      ]
    },
    {
      "cell_type": "code",
      "execution_count": 4,
      "id": "a173ff3e-f1e3-449e-9a28-1a847762bf61",
      "metadata": {
        "colab": {
          "base_uri": "https://localhost:8080/"
        },
        "id": "a173ff3e-f1e3-449e-9a28-1a847762bf61",
        "outputId": "6b0201b7-c41d-4ed5-ef33-65a998884993"
      },
      "outputs": [
        {
          "data": {
            "text/plain": [
              "((2000, 21), (1000, 21))"
            ]
          },
          "execution_count": 4,
          "metadata": {},
          "output_type": "execute_result"
        }
      ],
      "source": [
        "train_data.shape , test_data.shape"
      ]
    },
    {
      "cell_type": "code",
      "execution_count": 5,
      "id": "72ab7c01",
      "metadata": {
        "id": "72ab7c01"
      },
      "outputs": [],
      "source": [
        "def save_object(obj, filename, path):\n",
        "    filename = os.path.join(path, filename)\n",
        "    with open(filename + \".pkl\", 'wb') as outp:\n",
        "        pickle.dump(obj, outp, pickle.HIGHEST_PROTOCOL)\n",
        "    outp.close()\n",
        "\n",
        "def load_object(filename, path):\n",
        "    filename = os.path.join(path, filename)\n",
        "    with open(filename + \".pkl\", 'rb') as outp:\n",
        "        loaded_object = pickle.load(outp)\n",
        "    outp.close()\n",
        "    return loaded_object"
      ]
    },
    {
      "cell_type": "code",
      "execution_count": 6,
      "id": "9fe47bbb",
      "metadata": {
        "id": "9fe47bbb"
      },
      "outputs": [],
      "source": [
        "'''\n",
        "    Remove all rows from 'train_data' that contain any missing values.\n",
        "    The 'inplace=True' parameter modifies the DataFrame in place, meaning it will directly alter 'train_data' without needing to reassign it.\n",
        "'''\n",
        "train_data.dropna(inplace=True)\n",
        "\n",
        "X = train_data.drop(\"price_range\",axis=1)\n",
        "y = train_data[\"price_range\"]\n",
        "\n",
        "X_train, X_val, y_train, y_val = train_test_split(X, y, test_size=0.2, random_state=21)"
      ]
    },
    {
      "cell_type": "code",
      "execution_count": 7,
      "id": "32e57f07",
      "metadata": {
        "id": "32e57f07"
      },
      "outputs": [],
      "source": [
        "median_vector = X_train.median()\n",
        "median_vector = median_vector.tolist()\n",
        "save_object(median_vector, 'median_vector', results_path)"
      ]
    },
    {
      "cell_type": "markdown",
      "id": "9e635d20",
      "metadata": {
        "id": "9e635d20"
      },
      "source": [
        "## First Experiment:\n",
        "A simple classification algorithm depends on setting thresholds for different RAM sizes"
      ]
    },
    {
      "cell_type": "code",
      "execution_count": 8,
      "id": "c827dbc9",
      "metadata": {
        "colab": {
          "base_uri": "https://localhost:8080/",
          "height": 640
        },
        "id": "c827dbc9",
        "outputId": "25101bb8-b506-48cc-861e-68c89c111f2d"
      },
      "outputs": [
        {
          "name": "stdout",
          "output_type": "stream",
          "text": [
            "              precision    recall  f1-score   support\n",
            "\n",
            "           0       0.95      0.79      0.86       113\n",
            "           1       0.65      0.68      0.66       107\n",
            "           2       0.56      0.67      0.61        84\n",
            "           3       0.87      0.84      0.86        95\n",
            "\n",
            "    accuracy                           0.75       399\n",
            "   macro avg       0.76      0.74      0.75       399\n",
            "weighted avg       0.77      0.75      0.75       399\n",
            "\n"
          ]
        },
        {
          "data": {
            "image/png": "[encoded data removed]",
            "text/plain": [
              "<Figure size 432x288 with 2 Axes>"
            ]
          },
          "metadata": {
            "needs_background": "light"
          },
          "output_type": "display_data"
        }
      ],
      "source": [
        "def classify_value(value):\n",
        "    ranges = [\n",
        "        (0, 1100, 0),\n",
        "        (1101, 2100, 1),\n",
        "        (2101, 3100, 2)\n",
        "    ]\n",
        "    for start, end, label in ranges:\n",
        "        if start <= value <= end:\n",
        "            return label\n",
        "    return 3\n",
        "y_preds = X_val['ram'].apply(classify_value)\n",
        "print(classification_report(y_val, y_preds))\n",
        "cf = confusion_matrix(y_val, y_preds)\n",
        "disp = ConfusionMatrixDisplay(cf)\n",
        "disp.plot()\n",
        "plt.show()"
      ]
    },
    {
      "cell_type": "markdown",
      "id": "49b62223",
      "metadata": {
        "id": "49b62223"
      },
      "source": [
        "## Second Experiment:\n",
        "Work on full data"
      ]
    },
    {
      "cell_type": "code",
      "execution_count": 9,
      "id": "7c27abfe",
      "metadata": {
        "id": "7c27abfe"
      },
      "outputs": [],
      "source": [
        "X_train_2 = X_train.copy()\n",
        "X_val_2 = X_val.copy()"
      ]
    },
    {
      "cell_type": "markdown",
      "id": "f2cdae51",
      "metadata": {
        "id": "f2cdae51"
      },
      "source": [
        "## Third Experiment:\n",
        "Work on all data, but with standardization"
      ]
    },
    {
      "cell_type": "code",
      "execution_count": 10,
      "id": "29563578",
      "metadata": {
        "id": "29563578"
      },
      "outputs": [],
      "source": [
        "X_train_3 = X_train.copy()\n",
        "X_val_3 = X_val.copy()\n",
        "sc_3 = StandardScaler()\n",
        "X_train_3 = sc_3.fit_transform(X_train_3)\n",
        "X_val_3 = sc_3.transform(X_val_3)"
      ]
    },
    {
      "cell_type": "markdown",
      "id": "25523714",
      "metadata": {
        "id": "25523714"
      },
      "source": [
        "## Fourth Experiment:\n",
        "Work on the most important three features according to the corelation matrix (Battery power, Total pxs, Ram)"
      ]
    },
    {
      "cell_type": "code",
      "execution_count": 11,
      "id": "5c70e840",
      "metadata": {
        "id": "5c70e840"
      },
      "outputs": [],
      "source": [
        "X_train_4 = X_train.copy()\n",
        "X_val_4 = X_val.copy()\n",
        "X_train_4['total_pxs'] = X_train_4['px_height'] * X_train_4['px_width']\n",
        "X_val_4['total_pxs'] = X_val_4['px_height'] * X_val_4['px_width']\n",
        "columns_to_keep = ['battery_power', 'total_pxs', 'ram']\n",
        "columns_to_drop = [col for col in X_train_4.columns if col not in columns_to_keep]\n",
        "X_train_4 = X_train_4.drop(columns=columns_to_drop)\n",
        "X_val_4 = X_val_4.drop(columns=columns_to_drop)\n",
        "sc_4 = StandardScaler()\n",
        "X_train_4 = sc_4.fit_transform(X_train_4)\n",
        "X_val_4 = sc_4.transform(X_val_4)"
      ]
    },
    {
      "cell_type": "markdown",
      "id": "b7d279af",
      "metadata": {
        "id": "b7d279af"
      },
      "source": [
        "## Fifth Experiment:\n",
        "Work on all the features that have a positive association with the price according to the correlation matrix"
      ]
    },
    {
      "cell_type": "code",
      "execution_count": 12,
      "id": "e1fbc18f",
      "metadata": {
        "id": "e1fbc18f"
      },
      "outputs": [],
      "source": [
        "X_train_5 = X_train.copy()\n",
        "X_val_5 = X_val.copy()\n",
        "X_train_5['total_pxs'] = X_train_5['px_height'] * X_train_5['px_width']\n",
        "X_val_5['total_pxs'] = X_val_5['px_height'] * X_val_5['px_width']\n",
        "\n",
        "X_train_5['sc_area'] = X_train_5['sc_h'] * X_train_5['sc_w']\n",
        "X_val_5['sc_area'] = X_val_5['sc_h'] * X_val_5['sc_w']\n",
        "\n",
        "columns_to_keep = ['battery_power', 'fc', 'int_memory', 'm_dep', 'mobile_wt',\n",
        "                   'n_cores', 'pc', 'total_pxs', 'ram', 'sc_area', 'talk_time', 'three_g']\n",
        "columns_to_drop = [col for col in X_train_5.columns if col not in columns_to_keep]\n",
        "X_train_5 = X_train_5.drop(columns=columns_to_drop)\n",
        "X_val_5 = X_val_5.drop(columns=columns_to_drop)\n",
        "sc_5 = StandardScaler()\n",
        "X_train_5 = sc_5.fit_transform(X_train_5)\n",
        "X_val_5 = sc_5.transform(X_val_5)"
      ]
    },
    {
      "cell_type": "markdown",
      "id": "9ed39f16",
      "metadata": {
        "id": "9ed39f16"
      },
      "source": [
        "## VI Experiment:\n",
        "Extracting the importance of features using DecisionTreeClassifier"
      ]
    },
    {
      "cell_type": "code",
      "execution_count": 13,
      "id": "ISGmbFndG4fI",
      "metadata": {
        "colab": {
          "base_uri": "https://localhost:8080/",
          "height": 696
        },
        "id": "ISGmbFndG4fI",
        "outputId": "157a2922-fb5d-4766-9f0b-4f382f5cad81"
      },
      "outputs": [
        {
          "data": {
            "image/png": "[encoded data removed]",
            "text/plain": [
              "<Figure size 864x576 with 1 Axes>"
            ]
          },
          "metadata": {
            "needs_background": "light"
          },
          "output_type": "display_data"
        }
      ],
      "source": [
        "train_data.dropna(inplace=True)\n",
        "X = train_data.drop(\"price_range\",axis=1)\n",
        "y = train_data[\"price_range\"]\n",
        "clf_all = DecisionTreeClassifier(random_state=42)\n",
        "clf_all.fit(X, y)\n",
        "n_features = X.shape[1]\n",
        "plt.figure(figsize=(12, 8))\n",
        "plt.barh(range(n_features), clf_all.feature_importances_, align='center')\n",
        "plt.yticks(np.arange(n_features), X.columns)\n",
        "plt.xlabel('Feature Importance')\n",
        "plt.ylabel('Feature')\n",
        "plt.show()"
      ]
    },
    {
      "cell_type": "code",
      "execution_count": 14,
      "id": "Q4D24ag6G9XW",
      "metadata": {
        "id": "Q4D24ag6G9XW"
      },
      "outputs": [],
      "source": [
        "X_train_6 = X_train.copy()\n",
        "X_val_6 = X_val.copy()\n",
        "X_train_6['total_pxs'] = X_train_6['px_height'] * X_train_6['px_width']\n",
        "X_val_6['total_pxs'] = X_val_6['px_height'] * X_val_6['px_width']\n",
        "\n",
        "X_train_6['sc_area'] = X_train_6['sc_h'] * X_train_6['sc_w']\n",
        "X_val_6['sc_area'] = X_val_6['sc_h'] * X_val_6['sc_w']\n",
        "\n",
        "columns_to_keep = ['talk_time', 'sc_area', 'ram', 'total_pxs', 'pc',\n",
        "                   'mobile_wt', 'm_dep', 'int_memory', 'clock_speed', 'battery_power']\n",
        "columns_to_drop = [col for col in X_train_6.columns if col not in columns_to_keep]\n",
        "X_train_6 = X_train_6.drop(columns=columns_to_drop)\n",
        "X_val_6 = X_val_6.drop(columns=columns_to_drop)\n",
        "sc_6 = StandardScaler()\n",
        "X_train_6 = sc_6.fit_transform(X_train_6)\n",
        "X_val_6 = sc_6.transform(X_val_6)"
      ]
    },
    {
      "cell_type": "markdown",
      "id": "36e897c7",
      "metadata": {
        "id": "36e897c7"
      },
      "source": [
        "## Seventh Experiment:\n",
        "Use PCA to reduce data dimensions"
      ]
    },
    {
      "cell_type": "code",
      "execution_count": 15,
      "id": "d75136ed",
      "metadata": {
        "id": "d75136ed"
      },
      "outputs": [],
      "source": [
        "pca = PCA(n_components=0.95)\n",
        "X_train_ = np.array(X_train)\n",
        "X_val_ = np.array(X_val)\n",
        "X_train_7 = pca.fit_transform(X_train_)\n",
        "X_val_7 = pca.transform(X_val_)\n",
        "sc_7 = StandardScaler()\n",
        "X_train_7 = sc_5.fit_transform(X_train_7)\n",
        "X_val_7 = sc_5.transform(X_val_7)"
      ]
    },
    {
      "cell_type": "markdown",
      "id": "9712731e",
      "metadata": {
        "id": "9712731e"
      },
      "source": [
        "## VIII Experiment:\n",
        "Using Recursive Feature Elimination (**RFE**) (select features by **recursively considering smaller and smaller sets of features**)."
      ]
    },
    {
      "cell_type": "code",
      "execution_count": 16,
      "id": "290e7cbd",
      "metadata": {
        "colab": {
          "base_uri": "https://localhost:8080/",
          "height": 164
        },
        "id": "290e7cbd",
        "outputId": "4bac0d22-2720-4e04-db4d-d03a5212a053"
      },
      "outputs": [
        {
          "data": {
            "text/plain": [
              "([], <a list of 0 Text yticklabel objects>)"
            ]
          },
          "execution_count": 16,
          "metadata": {},
          "output_type": "execute_result"
        },
        {
          "data": {
            "image/png": "[encoded data removed]",
            "text/plain": [
              "<Figure size 1152x144 with 1 Axes>"
            ]
          },
          "metadata": {
            "needs_background": "light"
          },
          "output_type": "display_data"
        }
      ],
      "source": [
        "select = RFE(RandomForestClassifier(n_estimators=100, random_state=42), n_features_to_select=40)\n",
        "select.fit(X_train, y_train)\n",
        "mask = select.get_support()\n",
        "X_train_ = np.array(X_train)\n",
        "X_val_ = np.array(X_val)\n",
        "X_train_8 = X_train_[:, mask]\n",
        "X_val_8 = X_val_[:, mask]\n",
        "sc_8 = StandardScaler()\n",
        "X_train_8 = sc_8.fit_transform(X_train_8)\n",
        "X_val_8 = sc_8.transform(X_val_8)\n",
        "plt.matshow(mask.reshape(1, -1), cmap='gray_r')\n",
        "plt.xlabel(\"Sample index\")\n",
        "plt.yticks(())"
      ]
    },
    {
      "cell_type": "markdown",
      "id": "03684dae",
      "metadata": {
        "id": "03684dae"
      },
      "source": [
        "## Ninth Experiment:\n",
        "drift detection (by DDM or ADWIN)"
      ]
    },
    {
      "cell_type": "code",
      "execution_count": null,
      "id": "b547e584",
      "metadata": {
        "id": "b547e584"
      },
      "outputs": [],
      "source": []
    },
    {
      "cell_type": "markdown",
      "id": "2b4f5e0a",
      "metadata": {
        "id": "2b4f5e0a"
      },
      "source": [
        "# **Modelling**"
      ]
    },
    {
      "cell_type": "code",
      "execution_count": 17,
      "id": "eda285af",
      "metadata": {
        "id": "eda285af"
      },
      "outputs": [],
      "source": [
        "def evaluate_model(model, x_val, y_val):\n",
        "    y_preds = model.predict(x_val)\n",
        "    print(classification_report(y_val,y_preds))\n",
        "    cf = confusion_matrix(y_val,y_preds)\n",
        "    disp = ConfusionMatrixDisplay(cf)\n",
        "    disp.plot()\n",
        "    plt.show()"
      ]
    },
    {
      "cell_type": "code",
      "execution_count": 18,
      "id": "9de138e9",
      "metadata": {
        "id": "9de138e9"
      },
      "outputs": [],
      "source": [
        "def train_model(model, X_train, y_train, X_test, y_test):\n",
        "    model.fit(X_train,y_train)\n",
        "    train_acc = model.score(X_train,y_train)\n",
        "    test_acc = model.score(X_test,y_test)\n",
        "    return train_acc, test_acc"
      ]
    },
    {
      "cell_type": "code",
      "execution_count": 19,
      "id": "4f6cb14d",
      "metadata": {
        "id": "4f6cb14d"
      },
      "outputs": [],
      "source": [
        "model_params = {\n",
        "    'svm': {\n",
        "        'model': SVC(),\n",
        "        'params': {\n",
        "            'kernel': ['linear', 'poly', 'rbf'],\n",
        "            'C': [1, 5, 10],\n",
        "            'gamma': ['scale', 'auto']\n",
        "        }\n",
        "    },\n",
        "    'rfc': {\n",
        "        'model': RandomForestClassifier(),\n",
        "        'params': {\n",
        "            'n_estimators': [10, 50, 100],\n",
        "            'max_depth': [None, 10, 20, 30],\n",
        "            'criterion': ['gini', 'entropy']\n",
        "        }\n",
        "    },\n",
        "    'dtc': {\n",
        "        'model': DecisionTreeClassifier(),\n",
        "        'params': {\n",
        "            'max_depth': [3, 5, 10, None],\n",
        "            'criterion': ['gini', 'entropy']\n",
        "        }\n",
        "    },\n",
        "     'log_reg_1': {\n",
        "        'model': LogisticRegression(),\n",
        "        'params': {\n",
        "            'penalty': ['l2'],\n",
        "            'C': [0.1, 1, 10, 100],\n",
        "            'solver': ['saga']\n",
        "        }\n",
        "    },\n",
        "     'log_reg_2': {\n",
        "        'model': LogisticRegression(),\n",
        "        'params': {\n",
        "            'penalty': ['elasticnet'],\n",
        "            'C': [0.1, 1, 10, 100],\n",
        "            'solver': ['saga'],\n",
        "            'l1_ratio': [0.5, 0.7, 0.9]\n",
        "        }\n",
        "     },\n",
        "    'knn': {\n",
        "        'model': KNeighborsClassifier(),\n",
        "        'params': {\n",
        "            'n_neighbors': [3, 5, 11, 19],\n",
        "            'weights': ['uniform', 'distance'],\n",
        "            'metric': ['euclidean', 'manhattan', 'minkowski']\n",
        "        }\n",
        "    },\n",
        "    'gbc': {\n",
        "        'model': GradientBoostingClassifier(),\n",
        "        'params': {\n",
        "            'n_estimators': [50, 100, 200],\n",
        "            'learning_rate': [0.01, 0.1, 0.2],\n",
        "            'max_depth': [3, 5, 7]\n",
        "        }\n",
        "    },\n",
        "    'mlp': {\n",
        "        'model': MLPClassifier(),\n",
        "        'params': {\n",
        "            'hidden_layer_sizes': [(50,), (100,), (50, 50)],\n",
        "            'activation': ['tanh', 'relu'],\n",
        "            'solver': ['sgd', 'adam'],\n",
        "            'alpha': [0.0001, 0.001, 0.01],\n",
        "            'learning_rate': ['constant', 'adaptive']\n",
        "        }\n",
        "    }\n",
        "}"
      ]
    },
    {
      "cell_type": "code",
      "execution_count": 20,
      "id": "7e30a861",
      "metadata": {
        "id": "7e30a861"
      },
      "outputs": [],
      "source": [
        "def run_grid_search(X_train, y_train):\n",
        "    scores=[]\n",
        "    for model_name, mp in tqdm(model_params.items()):\n",
        "        try:\n",
        "            clf = GridSearchCV(mp['model'], mp['params'], cv=5, return_train_score=False)\n",
        "            clf.fit(X_train, y_train)\n",
        "            scores.append({\n",
        "                'model':model_name,\n",
        "                'best_score':clf.best_score_,\n",
        "                'best_params':clf.best_params_\n",
        "            })\n",
        "        except ValueError as e:\n",
        "            print(f\"An error occurred during grid search: {e}\")\n",
        "    return scores"
      ]
    },
    {
      "cell_type": "markdown",
      "id": "3adfbf6c",
      "metadata": {
        "id": "3adfbf6c"
      },
      "source": [
        "## Second Experiment:"
      ]
    },
    {
      "cell_type": "code",
      "execution_count": null,
      "id": "34c1895a",
      "metadata": {
        "colab": {
          "base_uri": "https://localhost:8080/"
        },
        "id": "34c1895a",
        "outputId": "197b9999-9056-4393-ffe4-c3a9bd99ea3b"
      },
      "outputs": [
        {
          "name": "stderr",
          "output_type": "stream",
          "text": [
            "100%|██████████| 8/8 [22:28<00:00, 168.55s/it]"
          ]
        },
        {
          "name": "stdout",
          "output_type": "stream",
          "text": [
            "\n",
            "{'model': 'svm', 'best_score': 0.9736203939196783, 'best_params': {'C': 1, 'gamma': 'scale', 'kernel': 'linear'}}\n",
            "{'model': 'rfc', 'best_score': 0.8731038425898543, 'best_params': {'criterion': 'entropy', 'max_depth': None, 'n_estimators': 100}}\n",
            "{'model': 'dtc', 'best_score': 0.8404428146132765, 'best_params': {'criterion': 'entropy', 'max_depth': 10}}\n",
            "{'model': 'log_reg_1', 'best_score': 0.6363281481043355, 'best_params': {'C': 0.1, 'penalty': 'l2', 'solver': 'saga'}}\n",
            "{'model': 'log_reg_2', 'best_score': 0.6363281481043355, 'best_params': {'C': 100, 'l1_ratio': 0.9, 'penalty': 'elasticnet', 'solver': 'saga'}}\n",
            "{'model': 'knn', 'best_score': 0.9302695136136906, 'best_params': {'metric': 'manhattan', 'n_neighbors': 19, 'weights': 'distance'}}\n",
            "{'model': 'gbc', 'best_score': 0.9051595985883558, 'best_params': {'learning_rate': 0.1, 'max_depth': 7, 'n_estimators': 200}}\n",
            "{'model': 'mlp', 'best_score': 0.6758876993750123, 'best_params': {'activation': 'tanh', 'alpha': 0.0001, 'hidden_layer_sizes': (100,), 'learning_rate': 'adaptive', 'solver': 'adam'}}\n",
            "CPU times: user 21min 58s, sys: 4min 26s, total: 26min 24s\n",
            "Wall time: 22min 28s\n"
          ]
        },
        {
          "name": "stderr",
          "output_type": "stream",
          "text": [
            "\n"
          ]
        }
      ],
      "source": [
        "%%time\n",
        "scores = run_grid_search(X_train_2, y_train)\n",
        "print()\n",
        "for models in scores:\n",
        "    print(models)"
      ]
    },
    {
      "cell_type": "markdown",
      "id": "cd3e993d",
      "metadata": {
        "id": "cd3e993d"
      },
      "source": [
        "## Third Experiment:"
      ]
    },
    {
      "cell_type": "code",
      "execution_count": null,
      "id": "9fb05ae6",
      "metadata": {
        "colab": {
          "base_uri": "https://localhost:8080/"
        },
        "id": "9fb05ae6",
        "outputId": "5e29ac12-2134-4ab8-be61-cb557eddf843"
      },
      "outputs": [
        {
          "name": "stderr",
          "output_type": "stream",
          "text": [
            "100%|██████████| 8/8 [25:08<00:00, 188.59s/it]"
          ]
        },
        {
          "name": "stdout",
          "output_type": "stream",
          "text": [
            "\n",
            "{'model': 'svm', 'best_score': 0.9623193549023087, 'best_params': {'C': 10, 'gamma': 'scale', 'kernel': 'linear'}}\n",
            "{'model': 'rfc', 'best_score': 0.8787701346582283, 'best_params': {'criterion': 'entropy', 'max_depth': 20, 'n_estimators': 100}}\n",
            "{'model': 'dtc', 'best_score': 0.842962481023639, 'best_params': {'criterion': 'entropy', 'max_depth': 10}}\n",
            "{'model': 'log_reg_1', 'best_score': 0.9654502080006309, 'best_params': {'C': 100, 'penalty': 'l2', 'solver': 'saga'}}\n",
            "{'model': 'log_reg_2', 'best_score': 0.9654502080006309, 'best_params': {'C': 10, 'l1_ratio': 0.9, 'penalty': 'elasticnet', 'solver': 'saga'}}\n",
            "{'model': 'knn', 'best_score': 0.6413083338262259, 'best_params': {'metric': 'manhattan', 'n_neighbors': 19, 'weights': 'distance'}}\n",
            "{'model': 'gbc', 'best_score': 0.9045247530608623, 'best_params': {'learning_rate': 0.2, 'max_depth': 7, 'n_estimators': 200}}\n",
            "{'model': 'mlp', 'best_score': 0.9566510912639735, 'best_params': {'activation': 'tanh', 'alpha': 0.0001, 'hidden_layer_sizes': (100,), 'learning_rate': 'constant', 'solver': 'adam'}}\n",
            "CPU times: user 23min 59s, sys: 8min 54s, total: 32min 54s\n",
            "Wall time: 25min 8s\n"
          ]
        },
        {
          "name": "stderr",
          "output_type": "stream",
          "text": [
            "\n"
          ]
        }
      ],
      "source": [
        "%%time\n",
        "scores = run_grid_search(X_train_3, y_train)\n",
        "print()\n",
        "for models in scores:\n",
        "    print(models)"
      ]
    },
    {
      "cell_type": "markdown",
      "id": "622bba73",
      "metadata": {
        "id": "622bba73"
      },
      "source": [
        "## Fourth Experiment:"
      ]
    },
    {
      "cell_type": "code",
      "execution_count": null,
      "id": "fcde78c5",
      "metadata": {
        "colab": {
          "base_uri": "https://localhost:8080/"
        },
        "id": "fcde78c5",
        "outputId": "af6f4fae-fafc-4080-bd51-d4b1e07b7fe4"
      },
      "outputs": [
        {
          "name": "stderr",
          "output_type": "stream",
          "text": [
            "100%|██████████| 8/8 [17:23<00:00, 130.49s/it]"
          ]
        },
        {
          "name": "stdout",
          "output_type": "stream",
          "text": [
            "\n",
            "{'model': 'svm', 'best_score': 0.9321720786262102, 'best_params': {'C': 5, 'gamma': 'scale', 'kernel': 'linear'}}\n",
            "{'model': 'rfc', 'best_score': 0.9108180043768852, 'best_params': {'criterion': 'entropy', 'max_depth': 20, 'n_estimators': 100}}\n",
            "{'model': 'dtc', 'best_score': 0.8907040476331302, 'best_params': {'criterion': 'entropy', 'max_depth': None}}\n",
            "{'model': 'log_reg_1', 'best_score': 0.9296602984956921, 'best_params': {'C': 10, 'penalty': 'l2', 'solver': 'saga'}}\n",
            "{'model': 'log_reg_2', 'best_score': 0.9302892293133022, 'best_params': {'C': 1, 'l1_ratio': 0.7, 'penalty': 'elasticnet', 'solver': 'saga'}}\n",
            "{'model': 'knn', 'best_score': 0.9076713787188739, 'best_params': {'metric': 'manhattan', 'n_neighbors': 19, 'weights': 'distance'}}\n",
            "{'model': 'gbc', 'best_score': 0.9070444194712248, 'best_params': {'learning_rate': 0.1, 'max_depth': 7, 'n_estimators': 200}}\n",
            "{'model': 'mlp', 'best_score': 0.9403343782654128, 'best_params': {'activation': 'tanh', 'alpha': 0.01, 'hidden_layer_sizes': (50, 50), 'learning_rate': 'constant', 'solver': 'adam'}}\n",
            "CPU times: user 16min 48s, sys: 4min 22s, total: 21min 10s\n",
            "Wall time: 17min 23s\n"
          ]
        },
        {
          "name": "stderr",
          "output_type": "stream",
          "text": [
            "\n"
          ]
        }
      ],
      "source": [
        "%%time\n",
        "scores = run_grid_search(X_train_4, y_train)\n",
        "print()\n",
        "for models in scores:\n",
        "    print(models)"
      ]
    },
    {
      "cell_type": "markdown",
      "id": "91ad47ea",
      "metadata": {
        "id": "91ad47ea"
      },
      "source": [
        "## Fifth Experiment:"
      ]
    },
    {
      "cell_type": "code",
      "execution_count": null,
      "id": "28517046",
      "metadata": {
        "colab": {
          "base_uri": "https://localhost:8080/"
        },
        "id": "28517046",
        "outputId": "39345305-c867-463a-cea9-f7d75062b890"
      },
      "outputs": [
        {
          "name": "stderr",
          "output_type": "stream",
          "text": [
            "100%|██████████| 8/8 [21:05<00:00, 158.20s/it]"
          ]
        },
        {
          "name": "stdout",
          "output_type": "stream",
          "text": [
            "\n",
            "{'model': 'svm', 'best_score': 0.9321681354862879, 'best_params': {'C': 5, 'gamma': 'scale', 'kernel': 'linear'}}\n",
            "{'model': 'rfc', 'best_score': 0.8737485459671536, 'best_params': {'criterion': 'entropy', 'max_depth': 10, 'n_estimators': 50}}\n",
            "{'model': 'dtc', 'best_score': 0.8593008812917727, 'best_params': {'criterion': 'entropy', 'max_depth': None}}\n",
            "{'model': 'log_reg_1', 'best_score': 0.9327911515940144, 'best_params': {'C': 100, 'penalty': 'l2', 'solver': 'saga'}}\n",
            "{'model': 'log_reg_2', 'best_score': 0.9334240255515468, 'best_params': {'C': 1, 'l1_ratio': 0.9, 'penalty': 'elasticnet', 'solver': 'saga'}}\n",
            "{'model': 'knn', 'best_score': 0.7380453855405059, 'best_params': {'metric': 'manhattan', 'n_neighbors': 19, 'weights': 'distance'}}\n",
            "{'model': 'gbc', 'best_score': 0.9007590544350466, 'best_params': {'learning_rate': 0.2, 'max_depth': 7, 'n_estimators': 100}}\n",
            "{'model': 'mlp', 'best_score': 0.9340568995090791, 'best_params': {'activation': 'tanh', 'alpha': 0.001, 'hidden_layer_sizes': (100,), 'learning_rate': 'constant', 'solver': 'adam'}}\n",
            "CPU times: user 20min 27s, sys: 4min 42s, total: 25min 10s\n",
            "Wall time: 21min 5s\n"
          ]
        },
        {
          "name": "stderr",
          "output_type": "stream",
          "text": [
            "\n"
          ]
        }
      ],
      "source": [
        "%%time\n",
        "scores = run_grid_search(X_train_5, y_train)\n",
        "print()\n",
        "for models in scores:\n",
        "    print(models)"
      ]
    },
    {
      "cell_type": "markdown",
      "id": "UHIAv2lsKgEd",
      "metadata": {
        "id": "UHIAv2lsKgEd"
      },
      "source": [
        "## VI Experiment:"
      ]
    },
    {
      "cell_type": "code",
      "execution_count": null,
      "id": "VYp0NyoiKebn",
      "metadata": {
        "colab": {
          "base_uri": "https://localhost:8080/"
        },
        "id": "VYp0NyoiKebn",
        "outputId": "5c506edb-e2d9-46b1-decd-cd28a211b769"
      },
      "outputs": [
        {
          "name": "stderr",
          "output_type": "stream",
          "text": [
            "100%|██████████| 8/8 [19:23<00:00, 145.47s/it]"
          ]
        },
        {
          "name": "stdout",
          "output_type": "stream",
          "text": [
            "\n",
            "{'model': 'svm', 'best_score': 0.9277656197630172, 'best_params': {'C': 5, 'gamma': 'scale', 'kernel': 'linear'}}\n",
            "{'model': 'rfc', 'best_score': 0.8844127678870685, 'best_params': {'criterion': 'entropy', 'max_depth': 20, 'n_estimators': 100}}\n",
            "{'model': 'dtc', 'best_score': 0.8586680073342403, 'best_params': {'criterion': 'entropy', 'max_depth': None}}\n",
            "{'model': 'log_reg_1', 'best_score': 0.9283965221505885, 'best_params': {'C': 100, 'penalty': 'l2', 'solver': 'saga'}}\n",
            "{'model': 'log_reg_2', 'best_score': 0.9290234813982374, 'best_params': {'C': 10, 'l1_ratio': 0.9, 'penalty': 'elasticnet', 'solver': 'saga'}}\n",
            "{'model': 'knn', 'best_score': 0.7468445022771633, 'best_params': {'metric': 'manhattan', 'n_neighbors': 19, 'weights': 'distance'}}\n",
            "{'model': 'gbc', 'best_score': 0.9013879852526567, 'best_params': {'learning_rate': 0.1, 'max_depth': 7, 'n_estimators': 200}}\n",
            "{'model': 'mlp', 'best_score': 0.934683858756728, 'best_params': {'activation': 'tanh', 'alpha': 0.01, 'hidden_layer_sizes': (50,), 'learning_rate': 'constant', 'solver': 'adam'}}\n",
            "CPU times: user 18min 57s, sys: 4min 16s, total: 23min 14s\n",
            "Wall time: 19min 23s\n"
          ]
        },
        {
          "name": "stderr",
          "output_type": "stream",
          "text": [
            "\n"
          ]
        }
      ],
      "source": [
        "%%time\n",
        "scores = run_grid_search(X_train_6, y_train)\n",
        "print()\n",
        "for models in scores:\n",
        "    print(models)"
      ]
    },
    {
      "cell_type": "markdown",
      "id": "HXwf2iEjRN2w",
      "metadata": {
        "id": "HXwf2iEjRN2w"
      },
      "source": [
        "## Seventh Experiment:"
      ]
    },
    {
      "cell_type": "code",
      "execution_count": null,
      "id": "873ecba4",
      "metadata": {
        "colab": {
          "background_save": true,
          "base_uri": "https://localhost:8080/"
        },
        "id": "873ecba4",
        "outputId": "307076a0-2d8e-4742-b0fd-1d02411af328"
      },
      "outputs": [
        {
          "name": "stderr",
          "output_type": "stream",
          "text": [
            "100%|██████████| 8/8 [16:46<00:00, 125.86s/it]"
          ]
        },
        {
          "name": "stdout",
          "output_type": "stream",
          "text": [
            "\n",
            "{'model': 'svm', 'best_score': 0.9541590268330673, 'best_params': {'C': 5, 'gamma': 'scale', 'kernel': 'linear'}}\n",
            "{'model': 'rfc', 'best_score': 0.9265215591175252, 'best_params': {'criterion': 'gini', 'max_depth': 30, 'n_estimators': 100}}\n",
            "{'model': 'dtc', 'best_score': 0.8863291338893159, 'best_params': {'criterion': 'entropy', 'max_depth': 10}}\n",
            "{'model': 'log_reg_1', 'best_score': 0.9579286685988052, 'best_params': {'C': 100, 'penalty': 'l2', 'solver': 'saga'}}\n",
            "{'model': 'log_reg_2', 'best_score': 0.9579286685988052, 'best_params': {'C': 10, 'l1_ratio': 0.9, 'penalty': 'elasticnet', 'solver': 'saga'}}\n",
            "{'model': 'knn', 'best_score': 0.9057707852763157, 'best_params': {'metric': 'manhattan', 'n_neighbors': 19, 'weights': 'distance'}}\n",
            "{'model': 'gbc', 'best_score': 0.9152047475404664, 'best_params': {'learning_rate': 0.1, 'max_depth': 7, 'n_estimators': 200}}\n",
            "{'model': 'mlp', 'best_score': 0.9591825870941031, 'best_params': {'activation': 'tanh', 'alpha': 0.0001, 'hidden_layer_sizes': (100,), 'learning_rate': 'adaptive', 'solver': 'adam'}}\n",
            "CPU times: user 16min 33s, sys: 3min 52s, total: 20min 25s\n",
            "Wall time: 16min 46s\n"
          ]
        },
        {
          "name": "stderr",
          "output_type": "stream",
          "text": [
            "\n"
          ]
        }
      ],
      "source": [
        "%%time\n",
        "scores = run_grid_search(X_train_7, y_train)\n",
        "print()\n",
        "for models in scores:\n",
        "    print(models)"
      ]
    },
    {
      "cell_type": "markdown",
      "id": "92ed0b7c",
      "metadata": {
        "id": "92ed0b7c"
      },
      "source": [
        "## VIII Experiment:"
      ]
    },
    {
      "cell_type": "code",
      "execution_count": null,
      "id": "887bf703",
      "metadata": {
        "colab": {
          "base_uri": "https://localhost:8080/"
        },
        "id": "887bf703",
        "outputId": "082cbb2e-d529-43d9-a997-82203fa92649"
      },
      "outputs": [
        {
          "name": "stderr",
          "output_type": "stream",
          "text": [
            "100%|██████████| 8/8 [23:01<00:00, 172.66s/it]"
          ]
        },
        {
          "name": "stdout",
          "output_type": "stream",
          "text": [
            "\n",
            "{'model': 'svm', 'best_score': 0.9623193549023087, 'best_params': {'C': 10, 'gamma': 'scale', 'kernel': 'linear'}}\n",
            "{'model': 'rfc', 'best_score': 0.8762445535379824, 'best_params': {'criterion': 'entropy', 'max_depth': 20, 'n_estimators': 100}}\n",
            "{'model': 'dtc', 'best_score': 0.8398178269355888, 'best_params': {'criterion': 'entropy', 'max_depth': None}}\n",
            "{'model': 'log_reg_1', 'best_score': 0.964823248752982, 'best_params': {'C': 100, 'penalty': 'l2', 'solver': 'saga'}}\n",
            "{'model': 'log_reg_2', 'best_score': 0.9654502080006309, 'best_params': {'C': 10, 'l1_ratio': 0.9, 'penalty': 'elasticnet', 'solver': 'saga'}}\n",
            "{'model': 'knn', 'best_score': 0.6413083338262259, 'best_params': {'metric': 'manhattan', 'n_neighbors': 19, 'weights': 'distance'}}\n",
            "{'model': 'gbc', 'best_score': 0.9051635417282782, 'best_params': {'learning_rate': 0.2, 'max_depth': 7, 'n_estimators': 100}}\n",
            "{'model': 'mlp', 'best_score': 0.9560339898661304, 'best_params': {'activation': 'tanh', 'alpha': 0.01, 'hidden_layer_sizes': (100,), 'learning_rate': 'constant', 'solver': 'adam'}}\n",
            "CPU times: user 22min 22s, sys: 7min 59s, total: 30min 22s\n",
            "Wall time: 23min 1s\n"
          ]
        },
        {
          "name": "stderr",
          "output_type": "stream",
          "text": [
            "\n"
          ]
        }
      ],
      "source": [
        "%%time\n",
        "scores = run_grid_search(X_train_8, y_train)\n",
        "print()\n",
        "for models in scores:\n",
        "    print(models)"
      ]
    },
    {
      "cell_type": "markdown",
      "id": "89a0d561",
      "metadata": {
        "id": "89a0d561"
      },
      "source": [
        "***The best is:***\n",
        "\n",
        "**without scale:**\n",
        "{'model': 'svm', 'best_score': 0.9736203939196783, 'best_params': {'C': 1, 'gamma': 'scale', 'kernel': 'linear'}}\n",
        "\n",
        "**with sacle:**\n",
        "{'model': 'log_reg_2', 'best_score': 0.9654502080006309, 'best_params': {'C': 10, 'l1_ratio': 0.9, 'penalty': 'elasticnet', 'solver': 'saga'}}\n"
      ]
    },
    {
      "cell_type": "markdown",
      "id": "d570021e",
      "metadata": {
        "id": "d570021e"
      },
      "source": [
        "# **Infrence**\n",
        "Building a final model"
      ]
    },
    {
      "cell_type": "code",
      "execution_count": 21,
      "id": "3ede18f5",
      "metadata": {
        "id": "3ede18f5"
      },
      "outputs": [
        {
          "name": "stdout",
          "output_type": "stream",
          "text": [
            "              precision    recall  f1-score   support\n",
            "\n",
            "           0       1.00      1.00      1.00       113\n",
            "           1       0.99      0.98      0.99       107\n",
            "           2       0.96      0.96      0.96        84\n",
            "           3       0.98      0.99      0.98        95\n",
            "\n",
            "    accuracy                           0.98       399\n",
            "   macro avg       0.98      0.98      0.98       399\n",
            "weighted avg       0.98      0.98      0.98       399\n",
            "\n"
          ]
        },
        {
          "data": {
            "image/png": "[encoded data removed]",
            "text/plain": [
              "<Figure size 432x288 with 2 Axes>"
            ]
          },
          "metadata": {
            "needs_background": "light"
          },
          "output_type": "display_data"
        }
      ],
      "source": [
        "svm = SVC(C=1, gamma='scale', kernel='linear')\n",
        "svm.fit(X_train_2, y_train)\n",
        "evaluate_model(svm, X_val_2, y_val)"
      ]
    },
    {
      "cell_type": "code",
      "execution_count": 37,
      "id": "1690fbbf",
      "metadata": {},
      "outputs": [],
      "source": [
        "def pro_mis(x, alt):\n",
        "    if x is np.nan or x is None or x is np.Infinity:\n",
        "        return alt\n",
        "    return x"
      ]
    },
    {
      "cell_type": "code",
      "execution_count": 38,
      "id": "ee07a6fe",
      "metadata": {
        "id": "ee07a6fe"
      },
      "outputs": [
        {
          "data": {
            "text/html": [
              "<div>\n",
              "<style scoped>\n",
              "    .dataframe tbody tr th:only-of-type {\n",
              "        vertical-align: middle;\n",
              "    }\n",
              "\n",
              "    .dataframe tbody tr th {\n",
              "        vertical-align: top;\n",
              "    }\n",
              "\n",
              "    .dataframe thead th {\n",
              "        text-align: right;\n",
              "    }\n",
              "</style>\n",
              "<table border=\"1\" class=\"dataframe\">\n",
              "  <thead>\n",
              "    <tr style=\"text-align: right;\">\n",
              "      <th></th>\n",
              "      <th>id</th>\n",
              "      <th>battery_power</th>\n",
              "      <th>blue</th>\n",
              "      <th>clock_speed</th>\n",
              "      <th>dual_sim</th>\n",
              "      <th>fc</th>\n",
              "      <th>four_g</th>\n",
              "      <th>int_memory</th>\n",
              "      <th>m_dep</th>\n",
              "      <th>mobile_wt</th>\n",
              "      <th>...</th>\n",
              "      <th>px_height</th>\n",
              "      <th>px_width</th>\n",
              "      <th>ram</th>\n",
              "      <th>sc_h</th>\n",
              "      <th>sc_w</th>\n",
              "      <th>talk_time</th>\n",
              "      <th>three_g</th>\n",
              "      <th>touch_screen</th>\n",
              "      <th>wifi</th>\n",
              "      <th>price_range</th>\n",
              "    </tr>\n",
              "  </thead>\n",
              "  <tbody>\n",
              "    <tr>\n",
              "      <th>571</th>\n",
              "      <td>572</td>\n",
              "      <td>727</td>\n",
              "      <td>1</td>\n",
              "      <td>0.5</td>\n",
              "      <td>1</td>\n",
              "      <td>0</td>\n",
              "      <td>1</td>\n",
              "      <td>42</td>\n",
              "      <td>0.1</td>\n",
              "      <td>163</td>\n",
              "      <td>...</td>\n",
              "      <td>44</td>\n",
              "      <td>757</td>\n",
              "      <td>2039</td>\n",
              "      <td>5</td>\n",
              "      <td>0</td>\n",
              "      <td>19</td>\n",
              "      <td>1</td>\n",
              "      <td>1</td>\n",
              "      <td>1</td>\n",
              "      <td>1</td>\n",
              "    </tr>\n",
              "    <tr>\n",
              "      <th>722</th>\n",
              "      <td>723</td>\n",
              "      <td>1343</td>\n",
              "      <td>0</td>\n",
              "      <td>0.5</td>\n",
              "      <td>1</td>\n",
              "      <td>6</td>\n",
              "      <td>1</td>\n",
              "      <td>23</td>\n",
              "      <td>0.4</td>\n",
              "      <td>97</td>\n",
              "      <td>...</td>\n",
              "      <td>643</td>\n",
              "      <td>817</td>\n",
              "      <td>2629</td>\n",
              "      <td>13</td>\n",
              "      <td>7</td>\n",
              "      <td>11</td>\n",
              "      <td>1</td>\n",
              "      <td>0</td>\n",
              "      <td>1</td>\n",
              "      <td>2</td>\n",
              "    </tr>\n",
              "    <tr>\n",
              "      <th>516</th>\n",
              "      <td>517</td>\n",
              "      <td>972</td>\n",
              "      <td>1</td>\n",
              "      <td>1.6</td>\n",
              "      <td>0</td>\n",
              "      <td>2</td>\n",
              "      <td>0</td>\n",
              "      <td>64</td>\n",
              "      <td>0.1</td>\n",
              "      <td>85</td>\n",
              "      <td>...</td>\n",
              "      <td>550</td>\n",
              "      <td>890</td>\n",
              "      <td>2759</td>\n",
              "      <td>13</td>\n",
              "      <td>7</td>\n",
              "      <td>10</td>\n",
              "      <td>1</td>\n",
              "      <td>0</td>\n",
              "      <td>0</td>\n",
              "      <td>2</td>\n",
              "    </tr>\n",
              "    <tr>\n",
              "      <th>67</th>\n",
              "      <td>68</td>\n",
              "      <td>1206</td>\n",
              "      <td>1</td>\n",
              "      <td>0.5</td>\n",
              "      <td>1</td>\n",
              "      <td>6</td>\n",
              "      <td>0</td>\n",
              "      <td>10</td>\n",
              "      <td>0.8</td>\n",
              "      <td>134</td>\n",
              "      <td>...</td>\n",
              "      <td>1327</td>\n",
              "      <td>1361</td>\n",
              "      <td>2959</td>\n",
              "      <td>5</td>\n",
              "      <td>1</td>\n",
              "      <td>20</td>\n",
              "      <td>0</td>\n",
              "      <td>0</td>\n",
              "      <td>1</td>\n",
              "      <td>3</td>\n",
              "    </tr>\n",
              "    <tr>\n",
              "      <th>527</th>\n",
              "      <td>528</td>\n",
              "      <td>1959</td>\n",
              "      <td>1</td>\n",
              "      <td>0.5</td>\n",
              "      <td>0</td>\n",
              "      <td>0</td>\n",
              "      <td>0</td>\n",
              "      <td>30</td>\n",
              "      <td>0.1</td>\n",
              "      <td>153</td>\n",
              "      <td>...</td>\n",
              "      <td>901</td>\n",
              "      <td>1027</td>\n",
              "      <td>3057</td>\n",
              "      <td>14</td>\n",
              "      <td>1</td>\n",
              "      <td>18</td>\n",
              "      <td>1</td>\n",
              "      <td>0</td>\n",
              "      <td>0</td>\n",
              "      <td>3</td>\n",
              "    </tr>\n",
              "    <tr>\n",
              "      <th>637</th>\n",
              "      <td>638</td>\n",
              "      <td>574</td>\n",
              "      <td>1</td>\n",
              "      <td>0.5</td>\n",
              "      <td>1</td>\n",
              "      <td>0</td>\n",
              "      <td>0</td>\n",
              "      <td>41</td>\n",
              "      <td>0.8</td>\n",
              "      <td>85</td>\n",
              "      <td>...</td>\n",
              "      <td>288</td>\n",
              "      <td>502</td>\n",
              "      <td>1865</td>\n",
              "      <td>6</td>\n",
              "      <td>5</td>\n",
              "      <td>6</td>\n",
              "      <td>0</td>\n",
              "      <td>0</td>\n",
              "      <td>1</td>\n",
              "      <td>1</td>\n",
              "    </tr>\n",
              "    <tr>\n",
              "      <th>736</th>\n",
              "      <td>737</td>\n",
              "      <td>1933</td>\n",
              "      <td>0</td>\n",
              "      <td>0.5</td>\n",
              "      <td>1</td>\n",
              "      <td>0</td>\n",
              "      <td>0</td>\n",
              "      <td>63</td>\n",
              "      <td>0.4</td>\n",
              "      <td>181</td>\n",
              "      <td>...</td>\n",
              "      <td>242</td>\n",
              "      <td>668</td>\n",
              "      <td>3142</td>\n",
              "      <td>14</td>\n",
              "      <td>3</td>\n",
              "      <td>16</td>\n",
              "      <td>1</td>\n",
              "      <td>1</td>\n",
              "      <td>1</td>\n",
              "      <td>3</td>\n",
              "    </tr>\n",
              "    <tr>\n",
              "      <th>482</th>\n",
              "      <td>483</td>\n",
              "      <td>695</td>\n",
              "      <td>1</td>\n",
              "      <td>1.0</td>\n",
              "      <td>0</td>\n",
              "      <td>4</td>\n",
              "      <td>0</td>\n",
              "      <td>51</td>\n",
              "      <td>0.8</td>\n",
              "      <td>93</td>\n",
              "      <td>...</td>\n",
              "      <td>174</td>\n",
              "      <td>538</td>\n",
              "      <td>2463</td>\n",
              "      <td>7</td>\n",
              "      <td>2</td>\n",
              "      <td>4</td>\n",
              "      <td>1</td>\n",
              "      <td>1</td>\n",
              "      <td>1</td>\n",
              "      <td>1</td>\n",
              "    </tr>\n",
              "    <tr>\n",
              "      <th>653</th>\n",
              "      <td>654</td>\n",
              "      <td>936</td>\n",
              "      <td>0</td>\n",
              "      <td>2.7</td>\n",
              "      <td>0</td>\n",
              "      <td>2</td>\n",
              "      <td>1</td>\n",
              "      <td>38</td>\n",
              "      <td>0.6</td>\n",
              "      <td>122</td>\n",
              "      <td>...</td>\n",
              "      <td>766</td>\n",
              "      <td>1263</td>\n",
              "      <td>2826</td>\n",
              "      <td>19</td>\n",
              "      <td>15</td>\n",
              "      <td>10</td>\n",
              "      <td>1</td>\n",
              "      <td>0</td>\n",
              "      <td>0</td>\n",
              "      <td>2</td>\n",
              "    </tr>\n",
              "    <tr>\n",
              "      <th>353</th>\n",
              "      <td>354</td>\n",
              "      <td>649</td>\n",
              "      <td>0</td>\n",
              "      <td>1.9</td>\n",
              "      <td>0</td>\n",
              "      <td>0</td>\n",
              "      <td>0</td>\n",
              "      <td>51</td>\n",
              "      <td>0.6</td>\n",
              "      <td>179</td>\n",
              "      <td>...</td>\n",
              "      <td>1174</td>\n",
              "      <td>1388</td>\n",
              "      <td>3446</td>\n",
              "      <td>11</td>\n",
              "      <td>5</td>\n",
              "      <td>18</td>\n",
              "      <td>0</td>\n",
              "      <td>1</td>\n",
              "      <td>1</td>\n",
              "      <td>3</td>\n",
              "    </tr>\n",
              "  </tbody>\n",
              "</table>\n",
              "<p>10 rows × 22 columns</p>\n",
              "</div>"
            ],
            "text/plain": [
              "      id  battery_power  blue  clock_speed  dual_sim  fc  four_g  int_memory  \\\n",
              "571  572            727     1          0.5         1   0       1          42   \n",
              "722  723           1343     0          0.5         1   6       1          23   \n",
              "516  517            972     1          1.6         0   2       0          64   \n",
              "67    68           1206     1          0.5         1   6       0          10   \n",
              "527  528           1959     1          0.5         0   0       0          30   \n",
              "637  638            574     1          0.5         1   0       0          41   \n",
              "736  737           1933     0          0.5         1   0       0          63   \n",
              "482  483            695     1          1.0         0   4       0          51   \n",
              "653  654            936     0          2.7         0   2       1          38   \n",
              "353  354            649     0          1.9         0   0       0          51   \n",
              "\n",
              "     m_dep  mobile_wt  ...  px_height  px_width   ram  sc_h  sc_w  talk_time  \\\n",
              "571    0.1        163  ...         44       757  2039     5     0         19   \n",
              "722    0.4         97  ...        643       817  2629    13     7         11   \n",
              "516    0.1         85  ...        550       890  2759    13     7         10   \n",
              "67     0.8        134  ...       1327      1361  2959     5     1         20   \n",
              "527    0.1        153  ...        901      1027  3057    14     1         18   \n",
              "637    0.8         85  ...        288       502  1865     6     5          6   \n",
              "736    0.4        181  ...        242       668  3142    14     3         16   \n",
              "482    0.8         93  ...        174       538  2463     7     2          4   \n",
              "653    0.6        122  ...        766      1263  2826    19    15         10   \n",
              "353    0.6        179  ...       1174      1388  3446    11     5         18   \n",
              "\n",
              "     three_g  touch_screen  wifi  price_range  \n",
              "571        1             1     1            1  \n",
              "722        1             0     1            2  \n",
              "516        1             0     0            2  \n",
              "67         0             0     1            3  \n",
              "527        1             0     0            3  \n",
              "637        0             0     1            1  \n",
              "736        1             1     1            3  \n",
              "482        1             1     1            1  \n",
              "653        1             0     0            2  \n",
              "353        0             1     1            3  \n",
              "\n",
              "[10 rows x 22 columns]"
            ]
          },
          "execution_count": 38,
          "metadata": {},
          "output_type": "execute_result"
        }
      ],
      "source": [
        "X_test = test_data.drop(\"id\",axis=1)\n",
        "X_test = X_test[list(X.columns)]\n",
        "\n",
        "median_vector = load_object('median_vector', results_path)\n",
        "for ind, col in enumerate(X.columns):\n",
        "    alt = median_vector[ind]\n",
        "    X_test[col].apply(pro_mis, args=(alt,))\n",
        "\n",
        "y_test_preds = svm.predict(X_test)\n",
        "test_data[\"price_range\"] = y_test_preds\n",
        "test_data.sample(10)"
      ]
    },
    {
      "cell_type": "code",
      "execution_count": 36,
      "id": "e63defb2",
      "metadata": {
        "id": "e63defb2"
      },
      "outputs": [],
      "source": [
        "save_object(svm, 'svm', results_path)"
      ]
    },
    {
      "cell_type": "code",
      "execution_count": null,
      "id": "5b40f534",
      "metadata": {
        "id": "5b40f534"
      },
      "outputs": [],
      "source": []
    }
  ],
  "metadata": {
    "colab": {
      "provenance": []
    },
    "kernelspec": {
      "display_name": "Python 3 (ipykernel)",
      "language": "python",
      "name": "python3"
    },
    "language_info": {
      "codemirror_mode": {
        "name": "ipython",
        "version": 3
      },
      "file_extension": ".py",
      "mimetype": "text/x-python",
      "name": "python",
      "nbconvert_exporter": "python",
      "pygments_lexer": "ipython3",
      "version": "3.7.6"
    }
  },
  "nbformat": 4,
  "nbformat_minor": 5
}
