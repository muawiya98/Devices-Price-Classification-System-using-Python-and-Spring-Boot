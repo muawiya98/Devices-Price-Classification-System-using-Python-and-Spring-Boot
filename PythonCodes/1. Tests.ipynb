{
 "cells": [
  {
   "cell_type": "code",
   "execution_count": null,
   "id": "e2dfbfa4",
   "metadata": {},
   "outputs": [],
   "source": [
    "from sklearn.metrics import confusion_matrix,ConfusionMatrixDisplay\n",
    "from sklearn.ensemble import GradientBoostingClassifier\n",
    "from sklearn.model_selection import train_test_split\n",
    "from sklearn.ensemble import RandomForestClassifier\n",
    "from sklearn.linear_model import LogisticRegression\n",
    "from sklearn.neighbors import KNeighborsClassifier\n",
    "from sklearn.metrics import classification_report\n",
    "from sklearn.exceptions import ConvergenceWarning\n",
    "from sklearn.preprocessing import StandardScaler\n",
    "from sklearn.model_selection import GridSearchCV\n",
    "from sklearn.neural_network import MLPClassifier\n",
    "from sklearn.tree import DecisionTreeClassifier\n",
    "from sklearn.svm import SVC\n",
    "\n",
    "import matplotlib.pyplot as plt\n",
    "from tqdm import tqdm\n",
    "import pandas as pd \n",
    "import numpy as np \n",
    "import warnings\n",
    "import logging\n",
    "import pickle\n",
    "import os\n",
    "\n",
    "# Suppress warnings\n",
    "warnings.filterwarnings(\"ignore\", category=UserWarning, message=\"Setting penalty='none' will ignore the C and l1_ratio parameters\")\n",
    "warnings.filterwarnings(\"ignore\", category=UserWarning, message=\"l1_ratio must be between 0 and 1; got (l1_ratio=None)\")\n",
    "warnings.filterwarnings(\"ignore\", category=ConvergenceWarning)\n",
    "logging.basicConfig(level=logging.ERROR)\n",
    "\n",
    "np.random.seed(21)"
   ]
  },
  {
   "cell_type": "markdown",
   "id": "4616e243",
   "metadata": {},
   "source": [
    "# Data Cleaning and Preprocessing & Feature Engineering & Feature Selection\n"
   ]
  },
  {
   "cell_type": "code",
   "execution_count": 2,
   "id": "296602aa",
   "metadata": {},
   "outputs": [],
   "source": [
    "root_path = \"\\\\\".join(os.path.abspath(\".\").split('\\\\')[:-1])\n",
    "data_path = os.path.join(root_path, \"Data\")\n",
    "results_path = os.path.join(root_path, \"Results\")"
   ]
  },
  {
   "cell_type": "code",
   "execution_count": 3,
   "id": "1e4e2735-a3d1-4b8b-9c04-c57807e8c7d0",
   "metadata": {},
   "outputs": [],
   "source": [
    "train_data = pd.read_csv(os.path.join(data_path, \"train.csv\"))\n",
    "test_data = pd.read_csv(os.path.join(data_path, \"test.csv\"))"
   ]
  },
  {
   "cell_type": "code",
   "execution_count": 4,
   "id": "a173ff3e-f1e3-449e-9a28-1a847762bf61",
   "metadata": {},
   "outputs": [
    {
     "data": {
      "text/plain": [
       "((2000, 21), (1000, 21))"
      ]
     },
     "execution_count": 4,
     "metadata": {},
     "output_type": "execute_result"
    }
   ],
   "source": [
    "train_data.shape , test_data.shape"
   ]
  },
  {
   "cell_type": "code",
   "execution_count": 5,
   "id": "72ab7c01",
   "metadata": {},
   "outputs": [],
   "source": [
    "def save_object(obj, filename, path):\n",
    "    filename = os.path.join(path, filename)\n",
    "    with open(filename + \".pkl\", 'wb') as outp:\n",
    "        pickle.dump(obj, outp, pickle.HIGHEST_PROTOCOL)\n",
    "    outp.close()\n",
    "\n",
    "def load_object(filename, path):\n",
    "    filename = os.path.join(path, filename)\n",
    "    with open(filename + \".pkl\", 'rb') as outp:\n",
    "        loaded_object = pickle.load(outp)\n",
    "    outp.close()\n",
    "    return loaded_object"
   ]
  },
  {
   "cell_type": "code",
   "execution_count": 6,
   "id": "9fe47bbb",
   "metadata": {},
   "outputs": [],
   "source": [
    "'''\n",
    "    Remove all rows from 'train_data' that contain any missing values.\n",
    "    The 'inplace=True' parameter modifies the DataFrame in place, meaning it will directly alter 'train_data' without needing to reassign it.\n",
    "'''\n",
    "train_data.dropna(inplace=True)\n",
    "\n",
    "X = train_data.drop(\"price_range\",axis=1)\n",
    "y = train_data[\"price_range\"]\n",
    "\n",
    "X_train, X_val, y_train, y_val = train_test_split(X, y, test_size=0.2, random_state=21)"
   ]
  },
  {
   "cell_type": "code",
   "execution_count": 7,
   "id": "32e57f07",
   "metadata": {},
   "outputs": [],
   "source": [
    "median_vector = X_train.median()\n",
    "median_vector = median_vector.tolist()\n",
    "# save_object(median_vector, 'median_vector', results_path)"
   ]
  },
  {
   "cell_type": "markdown",
   "id": "9e635d20",
   "metadata": {},
   "source": [
    "## First Experiment:"
   ]
  },
  {
   "cell_type": "code",
   "execution_count": 9,
   "id": "c827dbc9",
   "metadata": {},
   "outputs": [
    {
     "name": "stdout",
     "output_type": "stream",
     "text": [
      "              precision    recall  f1-score   support\n",
      "\n",
      "           0       0.95      0.79      0.86       113\n",
      "           1       0.65      0.68      0.66       107\n",
      "           2       0.56      0.67      0.61        84\n",
      "           3       0.87      0.84      0.86        95\n",
      "\n",
      "    accuracy                           0.75       399\n",
      "   macro avg       0.76      0.74      0.75       399\n",
      "weighted avg       0.77      0.75      0.75       399\n",
      "\n"
     ]
    },
    {
     "data": {
      "image/png": "[encoded data removed]",
      "text/plain": [
       "<Figure size 432x288 with 2 Axes>"
      ]
     },
     "metadata": {
      "needs_background": "light"
     },
     "output_type": "display_data"
    }
   ],
   "source": [
    "def classify_value(value):\n",
    "    ranges = [\n",
    "        (0, 1100, 0),\n",
    "        (1101, 2100, 1),\n",
    "        (2101, 3100, 2)\n",
    "    ]\n",
    "    for start, end, label in ranges:\n",
    "        if start <= value <= end:\n",
    "            return label\n",
    "    return 3\n",
    "y_preds = X_val['ram'].apply(classify_value)\n",
    "print(classification_report(y_val, y_preds))\n",
    "cf = confusion_matrix(y_val, y_preds)\n",
    "disp = ConfusionMatrixDisplay(cf)\n",
    "disp.plot()\n",
    "plt.show()"
   ]
  },
  {
   "cell_type": "markdown",
   "id": "49b62223",
   "metadata": {},
   "source": [
    "## Second Experiment:"
   ]
  },
  {
   "cell_type": "code",
   "execution_count": 10,
   "id": "7c27abfe",
   "metadata": {},
   "outputs": [],
   "source": [
    "X_train_1 = X_train.copy()\n",
    "X_val_1 = X_val.copy()\n",
    "sc_1 = StandardScaler()\n",
    "X_train_1 = sc_1.fit_transform(X_train_1)\n",
    "X_val_1 = sc_1.transform(X_val_1)"
   ]
  },
  {
   "cell_type": "markdown",
   "id": "25523714",
   "metadata": {},
   "source": [
    "## Third Experiment:"
   ]
  },
  {
   "cell_type": "code",
   "execution_count": 12,
   "id": "5c70e840",
   "metadata": {},
   "outputs": [],
   "source": [
    "X_train_2 = X_train.copy()\n",
    "X_val_2 = X_val.copy()\n",
    "X_train_2['total_pxs'] = X_train_2['px_height'] * X_train_2['px_width']\n",
    "X_val_2['total_pxs'] = X_val_2['px_height'] * X_val_2['px_width']\n",
    "columns_to_keep = ['battery_power', 'total_pxs', 'ram']\n",
    "columns_to_drop = [col for col in X_train_2.columns if col not in columns_to_keep]\n",
    "X_train_2 = X_train_2.drop(columns=columns_to_drop)\n",
    "sc_2 = StandardScaler()\n",
    "X_val_2 = X_val_2.drop(columns=columns_to_drop)\n",
    "X_train_2 = sc_2.fit_transform(X_train_2)\n",
    "X_val_2 = sc_2.transform(X_val_2)"
   ]
  },
  {
   "cell_type": "markdown",
   "id": "b7d279af",
   "metadata": {},
   "source": [
    "## Fourth Experiment:"
   ]
  },
  {
   "cell_type": "code",
   "execution_count": 13,
   "id": "e1fbc18f",
   "metadata": {},
   "outputs": [],
   "source": [
    "X_train_3 = X_train.copy()\n",
    "X_val_3 = X_val.copy()\n",
    "columns_to_keep = ['ram']\n",
    "columns_to_drop = [col for col in X_train_3.columns if col not in columns_to_keep]\n",
    "X_train_3 = X_train_3.drop(columns=columns_to_drop)\n",
    "X_val_3 = X_val_3.drop(columns=columns_to_drop)\n",
    "sc_3 = StandardScaler()\n",
    "X_train_3 = sc_3.fit_transform(X_train_3)\n",
    "X_val_3 = sc_3.transform(X_val_3)"
   ]
  },
  {
   "cell_type": "markdown",
   "id": "9ed39f16",
   "metadata": {},
   "source": [
    "## Fifth Experiment:"
   ]
  },
  {
   "cell_type": "code",
   "execution_count": 14,
   "id": "936d3c99",
   "metadata": {},
   "outputs": [],
   "source": [
    "X_train_4 = X_train.copy()\n",
    "X_val_4 = X_val.copy()\n",
    "X_train_4['total_pxs'] = X_train_4['px_height'] * X_train_4['px_width']\n",
    "X_val_4['total_pxs'] = X_val_4['px_height'] * X_val_4['px_width']\n",
    "\n",
    "X_train_4['sc_area'] = X_train_4['sc_h'] * X_train_4['sc_w']\n",
    "X_val_4['sc_area'] = X_val_4['sc_h'] * X_val_4['sc_w']\n",
    "\n",
    "columns_to_keep = ['battery_power', 'fc', 'int_memory', 'm_dep', 'mobile_wt', \n",
    "                   'n_cores', 'pc', 'total_pxs', 'ram', 'sc_area', 'talk_time', 'three_g']\n",
    "columns_to_drop = [col for col in X_train_4.columns if col not in columns_to_keep]\n",
    "X_train_4 = X_train_4.drop(columns=columns_to_drop)\n",
    "X_val_4 = X_val_4.drop(columns=columns_to_drop)\n",
    "sc_4 = StandardScaler()\n",
    "X_train_4 = sc_4.fit_transform(X_train_4)\n",
    "X_val_4 = sc_4.transform(X_val_4)"
   ]
  },
  {
   "cell_type": "markdown",
   "id": "52aa30dd",
   "metadata": {},
   "source": [
    "Other Experiment : PCA, Featuer selection by ML models, drift detection, "
   ]
  },
  {
   "cell_type": "markdown",
   "id": "2b4f5e0a",
   "metadata": {},
   "source": [
    "# Modelling"
   ]
  },
  {
   "cell_type": "code",
   "execution_count": 15,
   "id": "eda285af",
   "metadata": {},
   "outputs": [],
   "source": [
    "def evaluate_model(model, x_val, y_val):\n",
    "    y_preds = model.predict(x_val)\n",
    "    print(classification_report(y_val,y_preds))\n",
    "    cf = confusion_matrix(y_val,y_preds)\n",
    "    disp = ConfusionMatrixDisplay(cf)\n",
    "    disp.plot()\n",
    "    plt.show()"
   ]
  },
  {
   "cell_type": "code",
   "execution_count": 16,
   "id": "9de138e9",
   "metadata": {},
   "outputs": [],
   "source": [
    "def train_model(model, X_train, y_train, X_test, y_test):\n",
    "    model.fit(X_train,y_train)\n",
    "    train_acc = model.score(X_train,y_train)\n",
    "    test_acc = model.score(X_test,y_test)"
   ]
  },
  {
   "cell_type": "code",
   "execution_count": 18,
   "id": "4f6cb14d",
   "metadata": {},
   "outputs": [],
   "source": [
    "model_params = {\n",
    "    'svm': {\n",
    "        'model': SVC(),\n",
    "        'params': {\n",
    "            'kernel': ['linear', 'poly', 'rbf'],\n",
    "            'C': [1, 5, 10],\n",
    "            'gamma': ['scale', 'auto']\n",
    "        }\n",
    "    },\n",
    "    'rfc': {\n",
    "        'model': RandomForestClassifier(),\n",
    "        'params': {\n",
    "            'n_estimators': [10, 50, 100],\n",
    "            'max_depth': [None, 10, 20, 30],\n",
    "            'criterion': ['gini', 'entropy']\n",
    "        }\n",
    "    },\n",
    "    'dtc': {\n",
    "        'model': DecisionTreeClassifier(),\n",
    "        'params': {\n",
    "            'max_depth': [3, 5, 10, None],\n",
    "            'criterion': ['gini', 'entropy']\n",
    "        }\n",
    "    },\n",
    "    'log_reg': {\n",
    "        'model': LogisticRegression(),\n",
    "        'params': {\n",
    "            'penalty': ['l1', 'l2', 'elasticnet', 'none'],\n",
    "            'C': [0.1, 1, 10, 100],\n",
    "            'solver': ['liblinear', 'saga']\n",
    "        }\n",
    "    },\n",
    "    'knn': {\n",
    "        'model': KNeighborsClassifier(),\n",
    "        'params': {\n",
    "            'n_neighbors': [3, 5, 11, 19],\n",
    "            'weights': ['uniform', 'distance'],\n",
    "            'metric': ['euclidean', 'manhattan', 'minkowski']\n",
    "        }\n",
    "    },\n",
    "    'gbc': {\n",
    "        'model': GradientBoostingClassifier(),\n",
    "        'params': {\n",
    "            'n_estimators': [50, 100, 200],\n",
    "            'learning_rate': [0.01, 0.1, 0.2],\n",
    "            'max_depth': [3, 5, 7]\n",
    "        }\n",
    "    },\n",
    "    'mlp': {\n",
    "        'model': MLPClassifier(),\n",
    "        'params': {\n",
    "            'hidden_layer_sizes': [(50,), (100,), (50, 50)],\n",
    "            'activation': ['tanh', 'relu'],\n",
    "            'solver': ['sgd', 'adam'],\n",
    "            'alpha': [0.0001, 0.001, 0.01],\n",
    "            'learning_rate': ['constant', 'adaptive']\n",
    "        }\n",
    "    }\n",
    "}"
   ]
  },
  {
   "cell_type": "code",
   "execution_count": 26,
   "id": "7e30a861",
   "metadata": {},
   "outputs": [],
   "source": [
    "def run_grid_search(X_train, y_train):\n",
    "    scores=[]\n",
    "    for model_name, mp in tqdm(model_params.items()):\n",
    "        try:\n",
    "            clf = GridSearchCV(mp['model'], mp['params'], cv=5, return_train_score=False)\n",
    "            clf.fit(X_train, y_train)\n",
    "            scores.append({\n",
    "                'model':model_name,\n",
    "                'best_score':clf.best_score_,\n",
    "                'best_params':clf.best_params_\n",
    "            })\n",
    "        except ValueError as e:\n",
    "            print(f\"An error occurred during grid search: {e}\")\n",
    "    return scores"
   ]
  },
  {
   "cell_type": "markdown",
   "id": "3adfbf6c",
   "metadata": {},
   "source": [
    "## Second Experiment:"
   ]
  },
  {
   "cell_type": "code",
   "execution_count": 22,
   "id": "34c1895a",
   "metadata": {},
   "outputs": [
    {
     "data": {
      "text/plain": [
       "[{'model': 'svm',\n",
       "  'best_score': 0.9623193549023087,\n",
       "  'best_params': {'C': 10, 'gamma': 'scale', 'kernel': 'linear'}},\n",
       " {'model': 'rfc',\n",
       "  'best_score': 0.8737327734074645,\n",
       "  'best_params': {'criterion': 'entropy',\n",
       "   'max_depth': None,\n",
       "   'n_estimators': 100}},\n",
       " {'model': 'dtc',\n",
       "  'best_score': 0.8404428146132765,\n",
       "  'best_params': {'criterion': 'entropy', 'max_depth': 10}},\n",
       " {'model': 'log_reg',\n",
       "  'best_score': 0.9654502080006309,\n",
       "  'best_params': {'C': 10, 'penalty': 'l1', 'solver': 'saga'}},\n",
       " {'model': 'knn',\n",
       "  'best_score': 0.6413083338262259,\n",
       "  'best_params': {'metric': 'manhattan',\n",
       "   'n_neighbors': 19,\n",
       "   'weights': 'distance'}},\n",
       " {'model': 'gbc',\n",
       "  'best_score': 0.9026438753179157,\n",
       "  'best_params': {'learning_rate': 0.2, 'max_depth': 7, 'n_estimators': 100}},\n",
       " {'model': 'mlp',\n",
       "  'best_score': 0.9579109244691548,\n",
       "  'best_params': {'activation': 'tanh',\n",
       "   'alpha': 0.01,\n",
       "   'hidden_layer_sizes': (100,),\n",
       "   'learning_rate': 'adaptive',\n",
       "   'solver': 'adam'}}]"
      ]
     },
     "execution_count": 22,
     "metadata": {},
     "output_type": "execute_result"
    }
   ],
   "source": [
    "%%time\n",
    "scores = run_grid_search(X_train_1, y_train)\n",
    "scores"
   ]
  },
  {
   "cell_type": "code",
   "execution_count": 23,
   "id": "be8a3e33",
   "metadata": {},
   "outputs": [
    {
     "name": "stdout",
     "output_type": "stream",
     "text": [
      "              precision    recall  f1-score   support\n",
      "\n",
      "           0       1.00      0.97      0.99       113\n",
      "           1       0.96      0.96      0.96       107\n",
      "           2       0.94      0.96      0.95        84\n",
      "           3       0.98      0.99      0.98        95\n",
      "\n",
      "    accuracy                           0.97       399\n",
      "   macro avg       0.97      0.97      0.97       399\n",
      "weighted avg       0.97      0.97      0.97       399\n",
      "\n"
     ]
    },
    {
     "data": {
      "image/png": "[encoded data removed]",
      "text/plain": [
       "<Figure size 432x288 with 2 Axes>"
      ]
     },
     "metadata": {
      "needs_background": "light"
     },
     "output_type": "display_data"
    }
   ],
   "source": [
    "model=SVC(C=10,kernel ='linear')\n",
    "train_model(model, X_train_1, y_train, X_val_1, y_val)\n",
    "evaluate_model(model, X_val_1, y_val)"
   ]
  },
  {
   "cell_type": "code",
   "execution_count": 24,
   "id": "c597675b",
   "metadata": {},
   "outputs": [
    {
     "name": "stdout",
     "output_type": "stream",
     "text": [
      "              precision    recall  f1-score   support\n",
      "\n",
      "           0       1.00      0.98      0.99       113\n",
      "           1       0.97      0.96      0.97       107\n",
      "           2       0.94      0.96      0.95        84\n",
      "           3       0.98      0.99      0.98        95\n",
      "\n",
      "    accuracy                           0.97       399\n",
      "   macro avg       0.97      0.97      0.97       399\n",
      "weighted avg       0.98      0.97      0.98       399\n",
      "\n"
     ]
    },
    {
     "data": {
      "image/png": "[encoded data removed]",
      "text/plain": [
       "<Figure size 432x288 with 2 Axes>"
      ]
     },
     "metadata": {
      "needs_background": "light"
     },
     "output_type": "display_data"
    }
   ],
   "source": [
    "model=LogisticRegression(C=10, penalty='l1', solver='saga')\n",
    "train_model(model, X_train_1, y_train, X_val_1, y_val)\n",
    "evaluate_model(model, X_val_1, y_val)"
   ]
  },
  {
   "cell_type": "markdown",
   "id": "cd3e993d",
   "metadata": {},
   "source": [
    "## Third Experiment:"
   ]
  },
  {
   "cell_type": "code",
   "execution_count": 28,
   "id": "9fb05ae6",
   "metadata": {},
   "outputs": [
    {
     "name": "stdout",
     "output_type": "stream",
     "text": [
      "Wall time: 0 ns\n"
     ]
    },
    {
     "data": {
      "text/plain": [
       "[{'model': 'svm',\n",
       "  'best_score': 0.9321720786262102,\n",
       "  'best_params': {'C': 5, 'gamma': 'scale', 'kernel': 'linear'}},\n",
       " {'model': 'rfc',\n",
       "  'best_score': 0.9126969105498709,\n",
       "  'best_params': {'criterion': 'entropy',\n",
       "   'max_depth': 30,\n",
       "   'n_estimators': 100}},\n",
       " {'model': 'dtc',\n",
       "  'best_score': 0.8919619092683504,\n",
       "  'best_params': {'criterion': 'entropy', 'max_depth': None}},\n",
       " {'model': 'log_reg',\n",
       "  'best_score': 0.9296602984956921,\n",
       "  'best_params': {'C': 0.1, 'penalty': 'none', 'solver': 'saga'}},\n",
       " {'model': 'knn',\n",
       "  'best_score': 0.9076713787188739,\n",
       "  'best_params': {'metric': 'manhattan',\n",
       "   'n_neighbors': 19,\n",
       "   'weights': 'distance'}},\n",
       " {'model': 'gbc',\n",
       "  'best_score': 0.9070424479012636,\n",
       "  'best_params': {'learning_rate': 0.1, 'max_depth': 5, 'n_estimators': 100}},\n",
       " {'model': 'mlp',\n",
       "  'best_score': 0.9397093905877251,\n",
       "  'best_params': {'activation': 'relu',\n",
       "   'alpha': 0.01,\n",
       "   'hidden_layer_sizes': (50, 50),\n",
       "   'learning_rate': 'adaptive',\n",
       "   'solver': 'adam'}}]"
      ]
     },
     "execution_count": 28,
     "metadata": {},
     "output_type": "execute_result"
    }
   ],
   "source": [
    "%%time\n",
    "scores = run_grid_search(X_train_2, y_train)\n",
    "scores"
   ]
  },
  {
   "cell_type": "code",
   "execution_count": 29,
   "id": "2e9fb9a2",
   "metadata": {},
   "outputs": [
    {
     "name": "stdout",
     "output_type": "stream",
     "text": [
      "              precision    recall  f1-score   support\n",
      "\n",
      "           0       0.99      0.96      0.98       113\n",
      "           1       0.95      0.93      0.94       107\n",
      "           2       0.86      0.89      0.88        84\n",
      "           3       0.92      0.95      0.93        95\n",
      "\n",
      "    accuracy                           0.93       399\n",
      "   macro avg       0.93      0.93      0.93       399\n",
      "weighted avg       0.94      0.93      0.94       399\n",
      "\n"
     ]
    },
    {
     "data": {
      "image/png": "[encoded data removed]",
      "text/plain": [
       "<Figure size 432x288 with 2 Axes>"
      ]
     },
     "metadata": {
      "needs_background": "light"
     },
     "output_type": "display_data"
    }
   ],
   "source": [
    "model=SVC(C=5, gamma='scale', kernel ='linear')\n",
    "train_model(model, X_train_2, y_train, X_val_2, y_val)\n",
    "evaluate_model(model, X_val_2, y_val)"
   ]
  },
  {
   "cell_type": "markdown",
   "id": "622bba73",
   "metadata": {},
   "source": [
    "## Third Experiment:"
   ]
  },
  {
   "cell_type": "code",
   "execution_count": null,
   "id": "fcde78c5",
   "metadata": {},
   "outputs": [],
   "source": [
    "%%time\n",
    "scores = run_grid_search(X_train_3, y_train)\n",
    "scores"
   ]
  },
  {
   "cell_type": "code",
   "execution_count": null,
   "id": "7708c8ef",
   "metadata": {},
   "outputs": [],
   "source": []
  },
  {
   "cell_type": "markdown",
   "id": "91ad47ea",
   "metadata": {},
   "source": [
    "## Fourth Experiment:"
   ]
  },
  {
   "cell_type": "code",
   "execution_count": null,
   "id": "28517046",
   "metadata": {},
   "outputs": [],
   "source": [
    "%%time\n",
    "scores = run_grid_search(X_train_4, y_train)\n",
    "scores"
   ]
  },
  {
   "cell_type": "code",
   "execution_count": null,
   "id": "cde0be64",
   "metadata": {},
   "outputs": [],
   "source": []
  },
  {
   "cell_type": "markdown",
   "id": "d570021e",
   "metadata": {},
   "source": [
    "## Infrence\n",
    "Building a final model"
   ]
  },
  {
   "cell_type": "code",
   "execution_count": 53,
   "id": "3ede18f5",
   "metadata": {},
   "outputs": [
    {
     "name": "stdout",
     "output_type": "stream",
     "text": [
      "              precision    recall  f1-score   support\n",
      "\n",
      "           0       1.00      0.97      0.99       113\n",
      "           1       0.96      0.96      0.96       107\n",
      "           2       0.94      0.96      0.95        84\n",
      "           3       0.98      0.99      0.98        95\n",
      "\n",
      "    accuracy                           0.97       399\n",
      "   macro avg       0.97      0.97      0.97       399\n",
      "weighted avg       0.97      0.97      0.97       399\n",
      "\n"
     ]
    },
    {
     "data": {
      "image/png": "[encoded data removed]",
      "text/plain": [
       "<Figure size 432x288 with 2 Axes>"
      ]
     },
     "metadata": {
      "needs_background": "light"
     },
     "output_type": "display_data"
    }
   ],
   "source": [
    "from sklearn.pipeline import Pipeline\n",
    "pipeline = Pipeline([\n",
    " ('std_scaler', StandardScaler()),\n",
    " ('Model' , SVC(C=10, kernel='linear', gamma=0.5)),\n",
    "])\n",
    "\n",
    "pipeline.fit(X_train, y_train)\n",
    "evaluate_model(pipeline, X_val, y_val)"
   ]
  },
  {
   "cell_type": "code",
   "execution_count": 55,
   "id": "ee07a6fe",
   "metadata": {},
   "outputs": [
    {
     "data": {
      "text/html": [
       "<div>\n",
       "<style scoped>\n",
       "    .dataframe tbody tr th:only-of-type {\n",
       "        vertical-align: middle;\n",
       "    }\n",
       "\n",
       "    .dataframe tbody tr th {\n",
       "        vertical-align: top;\n",
       "    }\n",
       "\n",
       "    .dataframe thead th {\n",
       "        text-align: right;\n",
       "    }\n",
       "</style>\n",
       "<table border=\"1\" class=\"dataframe\">\n",
       "  <thead>\n",
       "    <tr style=\"text-align: right;\">\n",
       "      <th></th>\n",
       "      <th>id</th>\n",
       "      <th>battery_power</th>\n",
       "      <th>blue</th>\n",
       "      <th>clock_speed</th>\n",
       "      <th>dual_sim</th>\n",
       "      <th>fc</th>\n",
       "      <th>four_g</th>\n",
       "      <th>int_memory</th>\n",
       "      <th>m_dep</th>\n",
       "      <th>mobile_wt</th>\n",
       "      <th>...</th>\n",
       "      <th>px_height</th>\n",
       "      <th>px_width</th>\n",
       "      <th>ram</th>\n",
       "      <th>sc_h</th>\n",
       "      <th>sc_w</th>\n",
       "      <th>talk_time</th>\n",
       "      <th>three_g</th>\n",
       "      <th>touch_screen</th>\n",
       "      <th>wifi</th>\n",
       "      <th>price_range</th>\n",
       "    </tr>\n",
       "  </thead>\n",
       "  <tbody>\n",
       "    <tr>\n",
       "      <th>336</th>\n",
       "      <td>337</td>\n",
       "      <td>1877</td>\n",
       "      <td>1</td>\n",
       "      <td>0.5</td>\n",
       "      <td>0</td>\n",
       "      <td>4</td>\n",
       "      <td>0</td>\n",
       "      <td>10</td>\n",
       "      <td>0.9</td>\n",
       "      <td>123</td>\n",
       "      <td>...</td>\n",
       "      <td>134</td>\n",
       "      <td>610</td>\n",
       "      <td>3969</td>\n",
       "      <td>6</td>\n",
       "      <td>0</td>\n",
       "      <td>7</td>\n",
       "      <td>0</td>\n",
       "      <td>0</td>\n",
       "      <td>1</td>\n",
       "      <td>3</td>\n",
       "    </tr>\n",
       "    <tr>\n",
       "      <th>523</th>\n",
       "      <td>524</td>\n",
       "      <td>1970</td>\n",
       "      <td>0</td>\n",
       "      <td>2.9</td>\n",
       "      <td>0</td>\n",
       "      <td>3</td>\n",
       "      <td>1</td>\n",
       "      <td>9</td>\n",
       "      <td>0.2</td>\n",
       "      <td>163</td>\n",
       "      <td>...</td>\n",
       "      <td>110</td>\n",
       "      <td>1454</td>\n",
       "      <td>768</td>\n",
       "      <td>13</td>\n",
       "      <td>2</td>\n",
       "      <td>16</td>\n",
       "      <td>1</td>\n",
       "      <td>0</td>\n",
       "      <td>0</td>\n",
       "      <td>0</td>\n",
       "    </tr>\n",
       "    <tr>\n",
       "      <th>26</th>\n",
       "      <td>27</td>\n",
       "      <td>1858</td>\n",
       "      <td>0</td>\n",
       "      <td>3.0</td>\n",
       "      <td>1</td>\n",
       "      <td>0</td>\n",
       "      <td>0</td>\n",
       "      <td>17</td>\n",
       "      <td>0.6</td>\n",
       "      <td>124</td>\n",
       "      <td>...</td>\n",
       "      <td>575</td>\n",
       "      <td>1200</td>\n",
       "      <td>2427</td>\n",
       "      <td>16</td>\n",
       "      <td>11</td>\n",
       "      <td>13</td>\n",
       "      <td>1</td>\n",
       "      <td>1</td>\n",
       "      <td>0</td>\n",
       "      <td>2</td>\n",
       "    </tr>\n",
       "    <tr>\n",
       "      <th>118</th>\n",
       "      <td>119</td>\n",
       "      <td>1319</td>\n",
       "      <td>0</td>\n",
       "      <td>1.3</td>\n",
       "      <td>1</td>\n",
       "      <td>10</td>\n",
       "      <td>0</td>\n",
       "      <td>5</td>\n",
       "      <td>0.1</td>\n",
       "      <td>140</td>\n",
       "      <td>...</td>\n",
       "      <td>366</td>\n",
       "      <td>1821</td>\n",
       "      <td>3502</td>\n",
       "      <td>14</td>\n",
       "      <td>6</td>\n",
       "      <td>3</td>\n",
       "      <td>1</td>\n",
       "      <td>0</td>\n",
       "      <td>0</td>\n",
       "      <td>3</td>\n",
       "    </tr>\n",
       "    <tr>\n",
       "      <th>511</th>\n",
       "      <td>512</td>\n",
       "      <td>1391</td>\n",
       "      <td>0</td>\n",
       "      <td>1.5</td>\n",
       "      <td>1</td>\n",
       "      <td>6</td>\n",
       "      <td>1</td>\n",
       "      <td>39</td>\n",
       "      <td>0.9</td>\n",
       "      <td>88</td>\n",
       "      <td>...</td>\n",
       "      <td>491</td>\n",
       "      <td>1737</td>\n",
       "      <td>2367</td>\n",
       "      <td>18</td>\n",
       "      <td>11</td>\n",
       "      <td>12</td>\n",
       "      <td>1</td>\n",
       "      <td>1</td>\n",
       "      <td>0</td>\n",
       "      <td>2</td>\n",
       "    </tr>\n",
       "    <tr>\n",
       "      <th>434</th>\n",
       "      <td>435</td>\n",
       "      <td>1472</td>\n",
       "      <td>0</td>\n",
       "      <td>0.5</td>\n",
       "      <td>0</td>\n",
       "      <td>3</td>\n",
       "      <td>1</td>\n",
       "      <td>53</td>\n",
       "      <td>0.7</td>\n",
       "      <td>103</td>\n",
       "      <td>...</td>\n",
       "      <td>438</td>\n",
       "      <td>690</td>\n",
       "      <td>2001</td>\n",
       "      <td>14</td>\n",
       "      <td>0</td>\n",
       "      <td>14</td>\n",
       "      <td>1</td>\n",
       "      <td>1</td>\n",
       "      <td>1</td>\n",
       "      <td>1</td>\n",
       "    </tr>\n",
       "    <tr>\n",
       "      <th>875</th>\n",
       "      <td>876</td>\n",
       "      <td>1252</td>\n",
       "      <td>1</td>\n",
       "      <td>2.6</td>\n",
       "      <td>1</td>\n",
       "      <td>1</td>\n",
       "      <td>1</td>\n",
       "      <td>43</td>\n",
       "      <td>0.8</td>\n",
       "      <td>124</td>\n",
       "      <td>...</td>\n",
       "      <td>153</td>\n",
       "      <td>538</td>\n",
       "      <td>2447</td>\n",
       "      <td>18</td>\n",
       "      <td>15</td>\n",
       "      <td>11</td>\n",
       "      <td>1</td>\n",
       "      <td>0</td>\n",
       "      <td>0</td>\n",
       "      <td>1</td>\n",
       "    </tr>\n",
       "    <tr>\n",
       "      <th>776</th>\n",
       "      <td>777</td>\n",
       "      <td>1555</td>\n",
       "      <td>0</td>\n",
       "      <td>0.5</td>\n",
       "      <td>1</td>\n",
       "      <td>8</td>\n",
       "      <td>1</td>\n",
       "      <td>2</td>\n",
       "      <td>0.9</td>\n",
       "      <td>90</td>\n",
       "      <td>...</td>\n",
       "      <td>57</td>\n",
       "      <td>516</td>\n",
       "      <td>3596</td>\n",
       "      <td>11</td>\n",
       "      <td>6</td>\n",
       "      <td>6</td>\n",
       "      <td>1</td>\n",
       "      <td>1</td>\n",
       "      <td>1</td>\n",
       "      <td>3</td>\n",
       "    </tr>\n",
       "    <tr>\n",
       "      <th>466</th>\n",
       "      <td>467</td>\n",
       "      <td>1988</td>\n",
       "      <td>0</td>\n",
       "      <td>2.5</td>\n",
       "      <td>0</td>\n",
       "      <td>7</td>\n",
       "      <td>1</td>\n",
       "      <td>63</td>\n",
       "      <td>0.6</td>\n",
       "      <td>153</td>\n",
       "      <td>...</td>\n",
       "      <td>615</td>\n",
       "      <td>937</td>\n",
       "      <td>2276</td>\n",
       "      <td>13</td>\n",
       "      <td>7</td>\n",
       "      <td>11</td>\n",
       "      <td>1</td>\n",
       "      <td>0</td>\n",
       "      <td>0</td>\n",
       "      <td>2</td>\n",
       "    </tr>\n",
       "    <tr>\n",
       "      <th>390</th>\n",
       "      <td>391</td>\n",
       "      <td>1679</td>\n",
       "      <td>1</td>\n",
       "      <td>1.5</td>\n",
       "      <td>0</td>\n",
       "      <td>2</td>\n",
       "      <td>1</td>\n",
       "      <td>4</td>\n",
       "      <td>0.1</td>\n",
       "      <td>133</td>\n",
       "      <td>...</td>\n",
       "      <td>349</td>\n",
       "      <td>531</td>\n",
       "      <td>1557</td>\n",
       "      <td>16</td>\n",
       "      <td>15</td>\n",
       "      <td>12</td>\n",
       "      <td>1</td>\n",
       "      <td>0</td>\n",
       "      <td>1</td>\n",
       "      <td>1</td>\n",
       "    </tr>\n",
       "  </tbody>\n",
       "</table>\n",
       "<p>10 rows × 22 columns</p>\n",
       "</div>"
      ],
      "text/plain": [
       "      id  battery_power  blue  clock_speed  dual_sim  fc  four_g  int_memory  \\\n",
       "336  337           1877     1          0.5         0   4       0          10   \n",
       "523  524           1970     0          2.9         0   3       1           9   \n",
       "26    27           1858     0          3.0         1   0       0          17   \n",
       "118  119           1319     0          1.3         1  10       0           5   \n",
       "511  512           1391     0          1.5         1   6       1          39   \n",
       "434  435           1472     0          0.5         0   3       1          53   \n",
       "875  876           1252     1          2.6         1   1       1          43   \n",
       "776  777           1555     0          0.5         1   8       1           2   \n",
       "466  467           1988     0          2.5         0   7       1          63   \n",
       "390  391           1679     1          1.5         0   2       1           4   \n",
       "\n",
       "     m_dep  mobile_wt  ...  px_height  px_width   ram  sc_h  sc_w  talk_time  \\\n",
       "336    0.9        123  ...        134       610  3969     6     0          7   \n",
       "523    0.2        163  ...        110      1454   768    13     2         16   \n",
       "26     0.6        124  ...        575      1200  2427    16    11         13   \n",
       "118    0.1        140  ...        366      1821  3502    14     6          3   \n",
       "511    0.9         88  ...        491      1737  2367    18    11         12   \n",
       "434    0.7        103  ...        438       690  2001    14     0         14   \n",
       "875    0.8        124  ...        153       538  2447    18    15         11   \n",
       "776    0.9         90  ...         57       516  3596    11     6          6   \n",
       "466    0.6        153  ...        615       937  2276    13     7         11   \n",
       "390    0.1        133  ...        349       531  1557    16    15         12   \n",
       "\n",
       "     three_g  touch_screen  wifi  price_range  \n",
       "336        0             0     1            3  \n",
       "523        1             0     0            0  \n",
       "26         1             1     0            2  \n",
       "118        1             0     0            3  \n",
       "511        1             1     0            2  \n",
       "434        1             1     1            1  \n",
       "875        1             0     0            1  \n",
       "776        1             1     1            3  \n",
       "466        1             0     0            2  \n",
       "390        1             0     1            1  \n",
       "\n",
       "[10 rows x 22 columns]"
      ]
     },
     "execution_count": 55,
     "metadata": {},
     "output_type": "execute_result"
    }
   ],
   "source": [
    "X_test = test_data.drop(\"id\",axis=1)\n",
    "X_test = X_test[list(X.columns)]\n",
    "\n",
    "y_test_preds = pipeline.predict(X_test)\n",
    "test_data[\"price_range\"] = y_test_preds\n",
    "test_data.sample(10)"
   ]
  },
  {
   "cell_type": "code",
   "execution_count": 56,
   "id": "e63defb2",
   "metadata": {},
   "outputs": [],
   "source": [
    "# save_object(pipeline, 'pipeline', results_path)"
   ]
  },
  {
   "cell_type": "code",
   "execution_count": null,
   "id": "5b40f534",
   "metadata": {},
   "outputs": [],
   "source": []
  }
 ],
 "metadata": {
  "kernelspec": {
   "display_name": "Python 3 (ipykernel)",
   "language": "python",
   "name": "python3"
  },
  "language_info": {
   "codemirror_mode": {
    "name": "ipython",
    "version": 3
   },
   "file_extension": ".py",
   "mimetype": "text/x-python",
   "name": "python",
   "nbconvert_exporter": "python",
   "pygments_lexer": "ipython3",
   "version": "3.7.6"
  }
 },
 "nbformat": 4,
 "nbformat_minor": 5
}
